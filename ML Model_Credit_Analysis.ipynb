{
  "nbformat": 4,
  "nbformat_minor": 0,
  "metadata": {
    "colab": {
      "provenance": [],
      "collapsed_sections": [
        "_FUu45WNkHKc",
        "a8HaU-vq5xvE",
        "Rj9Endt5_4Fb",
        "8iA6da_BNIrG"
      ]
    },
    "kernelspec": {
      "name": "python3",
      "display_name": "Python 3"
    },
    "language_info": {
      "name": "python"
    }
  },
  "cells": [
    {
      "cell_type": "markdown",
      "source": [
        "Widya Anastasya | anastasyawidya14@gmail.com"
      ],
      "metadata": {
        "id": "YZhXZsq2OvOi"
      }
    },
    {
      "cell_type": "markdown",
      "source": [
        "# MACHINE LEARNING MODEL"
      ],
      "metadata": {
        "id": "k-BATpjjj_A-"
      }
    },
    {
      "cell_type": "code",
      "source": [
        "#BY WIDYA ANASTASYA"
      ],
      "metadata": {
        "id": "uw2V-eWOkW3P"
      },
      "execution_count": null,
      "outputs": []
    },
    {
      "cell_type": "code",
      "source": [
        "import pandas as pd\n",
        "import seaborn as sns\n",
        "import numpy as np\n",
        "import matplotlib.pyplot as plt\n",
        "from numpy import mean\n",
        "from numpy import array\n",
        "from numpy import argmax\n",
        "\n",
        "from sklearn.preprocessing import LabelEncoder\n",
        "from sklearn.model_selection import train_test_split\n",
        "from sklearn.model_selection import cross_val_score\n",
        "from imblearn.over_sampling import SMOTE\n",
        "from sklearn.tree import DecisionTreeClassifier\n",
        "from xgboost import XGBClassifier\n",
        "from sklearn.neighbors import KNeighborsClassifier\n",
        "from sklearn.metrics import accuracy_score\n",
        "from sklearn.metrics import precision_score\n",
        "from sklearn.metrics import recall_score\n",
        "from sklearn.metrics import confusion_matrix\n",
        "from sklearn.metrics import f1_score\n",
        "from sklearn.pipeline import Pipeline"
      ],
      "metadata": {
        "id": "nFUwv-gBlDvl"
      },
      "execution_count": null,
      "outputs": []
    },
    {
      "cell_type": "code",
      "execution_count": null,
      "metadata": {
        "colab": {
          "base_uri": "https://localhost:8080/"
        },
        "id": "AjI7mNODINd5",
        "outputId": "6a9bc7b1-d9a4-4cac-daa9-8ca22865959b"
      },
      "outputs": [
        {
          "output_type": "stream",
          "name": "stdout",
          "text": [
            "Mounted at /content/drive\n"
          ]
        }
      ],
      "source": [
        "#Mount Drive\n",
        "from google.colab import drive\n",
        "drive.mount('/content/drive')"
      ]
    },
    {
      "cell_type": "markdown",
      "source": [
        "## Load Data"
      ],
      "metadata": {
        "id": "_FUu45WNkHKc"
      }
    },
    {
      "cell_type": "code",
      "source": [
        "#Import data from Google drive\n",
        "data_final = pd.read_csv('/content/drive/My Drive/Project/Studi_Independen/Testing/data_fixi.csv')\n",
        "\n"
      ],
      "metadata": {
        "id": "O-3GDTOGkhgn"
      },
      "execution_count": null,
      "outputs": []
    },
    {
      "cell_type": "code",
      "source": [
        "data_final.info()"
      ],
      "metadata": {
        "colab": {
          "base_uri": "https://localhost:8080/"
        },
        "id": "phKej9vx7X8h",
        "outputId": "1c21c680-6764-421f-df3b-1ec8c18b4299"
      },
      "execution_count": null,
      "outputs": [
        {
          "output_type": "stream",
          "name": "stdout",
          "text": [
            "<class 'pandas.core.frame.DataFrame'>\n",
            "RangeIndex: 25612 entries, 0 to 25611\n",
            "Data columns (total 17 columns):\n",
            " #   Column               Non-Null Count  Dtype  \n",
            "---  ------               --------------  -----  \n",
            " 0   Id_customer          25612 non-null  int64  \n",
            " 1   JK                   25612 non-null  object \n",
            " 2   KepemilikanMobil     25612 non-null  object \n",
            " 3   KepemilikanProperti  25612 non-null  object \n",
            " 4   JmlAnak              25612 non-null  int64  \n",
            " 5   Pendapatan           25612 non-null  float64\n",
            " 6   TipePendapatan       25612 non-null  object \n",
            " 7   TingkatPendidikan    25612 non-null  object \n",
            " 8   StatusKeluarga       25612 non-null  object \n",
            " 9   TipeRumah            25612 non-null  object \n",
            " 10  FlagWorkPhone        25612 non-null  int64  \n",
            " 11  FlagPhone            25612 non-null  int64  \n",
            " 12  Pekerjaan            25612 non-null  object \n",
            " 13  JmlAnggotaKeluarga   25612 non-null  int64  \n",
            " 14  Age                  25612 non-null  int64  \n",
            " 15  Experience           25612 non-null  int64  \n",
            " 16  Overdue              25612 non-null  int64  \n",
            "dtypes: float64(1), int64(8), object(8)\n",
            "memory usage: 3.3+ MB\n"
          ]
        }
      ]
    },
    {
      "cell_type": "code",
      "source": [
        "data_final.head()"
      ],
      "metadata": {
        "colab": {
          "base_uri": "https://localhost:8080/"
        },
        "id": "mm95oXk9_3y1",
        "outputId": "342097c2-2926-4676-e78c-be4b9532c42b"
      },
      "execution_count": null,
      "outputs": [
        {
          "output_type": "execute_result",
          "data": {
            "text/plain": [
              "   Id_customer         JK KepemilikanMobil KepemilikanProperti  JmlAnak  \\\n",
              "0      5008808  Perempuan            Tidak                  Ya        0   \n",
              "1      5008810  Perempuan            Tidak                  Ya        0   \n",
              "2      5008811  Perempuan            Tidak                  Ya        0   \n",
              "3      5008825  Perempuan               Ya               Tidak        0   \n",
              "4      5008825  Perempuan               Ya               Tidak        0   \n",
              "\n",
              "   Pendapatan      TipePendapatan TingkatPendidikan StatusKeluarga TipeRumah  \\\n",
              "0    270000.0  Asosiasi komersial                 G             NM        MH   \n",
              "1    270000.0  Asosiasi komersial                 G             NM        MH   \n",
              "2    270000.0  Asosiasi komersial                 G             NM        MH   \n",
              "3    130500.0             Bekerja                 G              M        MH   \n",
              "4    130500.0             Bekerja                 G              M        MH   \n",
              "\n",
              "   FlagWorkPhone  FlagPhone    Pekerjaan  JmlAnggotaKeluarga  Age  Experience  \\\n",
              "0              0          1  Sales staff                   1   52           8   \n",
              "1              0          1  Sales staff                   1   52           8   \n",
              "2              0          1  Sales staff                   1   52           8   \n",
              "3              0          0  Accountants                   2   29           3   \n",
              "4              0          0  Accountants                   2   29           3   \n",
              "\n",
              "   Overdue  \n",
              "0        0  \n",
              "1        0  \n",
              "2        0  \n",
              "3        1  \n",
              "4        0  "
            ],
            "text/html": [
              "\n",
              "  <div id=\"df-dac07130-d7ec-454e-973f-e60b34d2da1b\">\n",
              "    <div class=\"colab-df-container\">\n",
              "      <div>\n",
              "<style scoped>\n",
              "    .dataframe tbody tr th:only-of-type {\n",
              "        vertical-align: middle;\n",
              "    }\n",
              "\n",
              "    .dataframe tbody tr th {\n",
              "        vertical-align: top;\n",
              "    }\n",
              "\n",
              "    .dataframe thead th {\n",
              "        text-align: right;\n",
              "    }\n",
              "</style>\n",
              "<table border=\"1\" class=\"dataframe\">\n",
              "  <thead>\n",
              "    <tr style=\"text-align: right;\">\n",
              "      <th></th>\n",
              "      <th>Id_customer</th>\n",
              "      <th>JK</th>\n",
              "      <th>KepemilikanMobil</th>\n",
              "      <th>KepemilikanProperti</th>\n",
              "      <th>JmlAnak</th>\n",
              "      <th>Pendapatan</th>\n",
              "      <th>TipePendapatan</th>\n",
              "      <th>TingkatPendidikan</th>\n",
              "      <th>StatusKeluarga</th>\n",
              "      <th>TipeRumah</th>\n",
              "      <th>FlagWorkPhone</th>\n",
              "      <th>FlagPhone</th>\n",
              "      <th>Pekerjaan</th>\n",
              "      <th>JmlAnggotaKeluarga</th>\n",
              "      <th>Age</th>\n",
              "      <th>Experience</th>\n",
              "      <th>Overdue</th>\n",
              "    </tr>\n",
              "  </thead>\n",
              "  <tbody>\n",
              "    <tr>\n",
              "      <th>0</th>\n",
              "      <td>5008808</td>\n",
              "      <td>Perempuan</td>\n",
              "      <td>Tidak</td>\n",
              "      <td>Ya</td>\n",
              "      <td>0</td>\n",
              "      <td>270000.0</td>\n",
              "      <td>Asosiasi komersial</td>\n",
              "      <td>G</td>\n",
              "      <td>NM</td>\n",
              "      <td>MH</td>\n",
              "      <td>0</td>\n",
              "      <td>1</td>\n",
              "      <td>Sales staff</td>\n",
              "      <td>1</td>\n",
              "      <td>52</td>\n",
              "      <td>8</td>\n",
              "      <td>0</td>\n",
              "    </tr>\n",
              "    <tr>\n",
              "      <th>1</th>\n",
              "      <td>5008810</td>\n",
              "      <td>Perempuan</td>\n",
              "      <td>Tidak</td>\n",
              "      <td>Ya</td>\n",
              "      <td>0</td>\n",
              "      <td>270000.0</td>\n",
              "      <td>Asosiasi komersial</td>\n",
              "      <td>G</td>\n",
              "      <td>NM</td>\n",
              "      <td>MH</td>\n",
              "      <td>0</td>\n",
              "      <td>1</td>\n",
              "      <td>Sales staff</td>\n",
              "      <td>1</td>\n",
              "      <td>52</td>\n",
              "      <td>8</td>\n",
              "      <td>0</td>\n",
              "    </tr>\n",
              "    <tr>\n",
              "      <th>2</th>\n",
              "      <td>5008811</td>\n",
              "      <td>Perempuan</td>\n",
              "      <td>Tidak</td>\n",
              "      <td>Ya</td>\n",
              "      <td>0</td>\n",
              "      <td>270000.0</td>\n",
              "      <td>Asosiasi komersial</td>\n",
              "      <td>G</td>\n",
              "      <td>NM</td>\n",
              "      <td>MH</td>\n",
              "      <td>0</td>\n",
              "      <td>1</td>\n",
              "      <td>Sales staff</td>\n",
              "      <td>1</td>\n",
              "      <td>52</td>\n",
              "      <td>8</td>\n",
              "      <td>0</td>\n",
              "    </tr>\n",
              "    <tr>\n",
              "      <th>3</th>\n",
              "      <td>5008825</td>\n",
              "      <td>Perempuan</td>\n",
              "      <td>Ya</td>\n",
              "      <td>Tidak</td>\n",
              "      <td>0</td>\n",
              "      <td>130500.0</td>\n",
              "      <td>Bekerja</td>\n",
              "      <td>G</td>\n",
              "      <td>M</td>\n",
              "      <td>MH</td>\n",
              "      <td>0</td>\n",
              "      <td>0</td>\n",
              "      <td>Accountants</td>\n",
              "      <td>2</td>\n",
              "      <td>29</td>\n",
              "      <td>3</td>\n",
              "      <td>1</td>\n",
              "    </tr>\n",
              "    <tr>\n",
              "      <th>4</th>\n",
              "      <td>5008825</td>\n",
              "      <td>Perempuan</td>\n",
              "      <td>Ya</td>\n",
              "      <td>Tidak</td>\n",
              "      <td>0</td>\n",
              "      <td>130500.0</td>\n",
              "      <td>Bekerja</td>\n",
              "      <td>G</td>\n",
              "      <td>M</td>\n",
              "      <td>MH</td>\n",
              "      <td>0</td>\n",
              "      <td>0</td>\n",
              "      <td>Accountants</td>\n",
              "      <td>2</td>\n",
              "      <td>29</td>\n",
              "      <td>3</td>\n",
              "      <td>0</td>\n",
              "    </tr>\n",
              "  </tbody>\n",
              "</table>\n",
              "</div>\n",
              "      <button class=\"colab-df-convert\" onclick=\"convertToInteractive('df-dac07130-d7ec-454e-973f-e60b34d2da1b')\"\n",
              "              title=\"Convert this dataframe to an interactive table.\"\n",
              "              style=\"display:none;\">\n",
              "        \n",
              "  <svg xmlns=\"http://www.w3.org/2000/svg\" height=\"24px\"viewBox=\"0 0 24 24\"\n",
              "       width=\"24px\">\n",
              "    <path d=\"M0 0h24v24H0V0z\" fill=\"none\"/>\n",
              "    <path d=\"M18.56 5.44l.94 2.06.94-2.06 2.06-.94-2.06-.94-.94-2.06-.94 2.06-2.06.94zm-11 1L8.5 8.5l.94-2.06 2.06-.94-2.06-.94L8.5 2.5l-.94 2.06-2.06.94zm10 10l.94 2.06.94-2.06 2.06-.94-2.06-.94-.94-2.06-.94 2.06-2.06.94z\"/><path d=\"M17.41 7.96l-1.37-1.37c-.4-.4-.92-.59-1.43-.59-.52 0-1.04.2-1.43.59L10.3 9.45l-7.72 7.72c-.78.78-.78 2.05 0 2.83L4 21.41c.39.39.9.59 1.41.59.51 0 1.02-.2 1.41-.59l7.78-7.78 2.81-2.81c.8-.78.8-2.07 0-2.86zM5.41 20L4 18.59l7.72-7.72 1.47 1.35L5.41 20z\"/>\n",
              "  </svg>\n",
              "      </button>\n",
              "      \n",
              "  <style>\n",
              "    .colab-df-container {\n",
              "      display:flex;\n",
              "      flex-wrap:wrap;\n",
              "      gap: 12px;\n",
              "    }\n",
              "\n",
              "    .colab-df-convert {\n",
              "      background-color: #E8F0FE;\n",
              "      border: none;\n",
              "      border-radius: 50%;\n",
              "      cursor: pointer;\n",
              "      display: none;\n",
              "      fill: #1967D2;\n",
              "      height: 32px;\n",
              "      padding: 0 0 0 0;\n",
              "      width: 32px;\n",
              "    }\n",
              "\n",
              "    .colab-df-convert:hover {\n",
              "      background-color: #E2EBFA;\n",
              "      box-shadow: 0px 1px 2px rgba(60, 64, 67, 0.3), 0px 1px 3px 1px rgba(60, 64, 67, 0.15);\n",
              "      fill: #174EA6;\n",
              "    }\n",
              "\n",
              "    [theme=dark] .colab-df-convert {\n",
              "      background-color: #3B4455;\n",
              "      fill: #D2E3FC;\n",
              "    }\n",
              "\n",
              "    [theme=dark] .colab-df-convert:hover {\n",
              "      background-color: #434B5C;\n",
              "      box-shadow: 0px 1px 3px 1px rgba(0, 0, 0, 0.15);\n",
              "      filter: drop-shadow(0px 1px 2px rgba(0, 0, 0, 0.3));\n",
              "      fill: #FFFFFF;\n",
              "    }\n",
              "  </style>\n",
              "\n",
              "      <script>\n",
              "        const buttonEl =\n",
              "          document.querySelector('#df-dac07130-d7ec-454e-973f-e60b34d2da1b button.colab-df-convert');\n",
              "        buttonEl.style.display =\n",
              "          google.colab.kernel.accessAllowed ? 'block' : 'none';\n",
              "\n",
              "        async function convertToInteractive(key) {\n",
              "          const element = document.querySelector('#df-dac07130-d7ec-454e-973f-e60b34d2da1b');\n",
              "          const dataTable =\n",
              "            await google.colab.kernel.invokeFunction('convertToInteractive',\n",
              "                                                     [key], {});\n",
              "          if (!dataTable) return;\n",
              "\n",
              "          const docLinkHtml = 'Like what you see? Visit the ' +\n",
              "            '<a target=\"_blank\" href=https://colab.research.google.com/notebooks/data_table.ipynb>data table notebook</a>'\n",
              "            + ' to learn more about interactive tables.';\n",
              "          element.innerHTML = '';\n",
              "          dataTable['output_type'] = 'display_data';\n",
              "          await google.colab.output.renderOutput(dataTable, element);\n",
              "          const docLink = document.createElement('div');\n",
              "          docLink.innerHTML = docLinkHtml;\n",
              "          element.appendChild(docLink);\n",
              "        }\n",
              "      </script>\n",
              "    </div>\n",
              "  </div>\n",
              "  "
            ]
          },
          "metadata": {},
          "execution_count": 6
        }
      ]
    },
    {
      "cell_type": "code",
      "source": [
        "#Changing the data type to category\n",
        "cols=data_final.select_dtypes(exclude='int').columns.to_list()\n",
        "data_final[cols]=data_final[cols].astype('category')"
      ],
      "metadata": {
        "id": "pfO01VTi2YUv"
      },
      "execution_count": null,
      "outputs": []
    },
    {
      "cell_type": "code",
      "source": [
        "print(data_final.info())"
      ],
      "metadata": {
        "colab": {
          "base_uri": "https://localhost:8080/"
        },
        "id": "XNRBo_4k3QB4",
        "outputId": "c6127653-f5a7-4768-e1a4-0efe65a271bc"
      },
      "execution_count": null,
      "outputs": [
        {
          "output_type": "stream",
          "name": "stdout",
          "text": [
            "<class 'pandas.core.frame.DataFrame'>\n",
            "RangeIndex: 25612 entries, 0 to 25611\n",
            "Data columns (total 17 columns):\n",
            " #   Column               Non-Null Count  Dtype   \n",
            "---  ------               --------------  -----   \n",
            " 0   Id_customer          25612 non-null  int64   \n",
            " 1   JK                   25612 non-null  category\n",
            " 2   KepemilikanMobil     25612 non-null  category\n",
            " 3   KepemilikanProperti  25612 non-null  category\n",
            " 4   JmlAnak              25612 non-null  int64   \n",
            " 5   Pendapatan           25612 non-null  category\n",
            " 6   TipePendapatan       25612 non-null  category\n",
            " 7   TingkatPendidikan    25612 non-null  category\n",
            " 8   StatusKeluarga       25612 non-null  category\n",
            " 9   TipeRumah            25612 non-null  category\n",
            " 10  FlagWorkPhone        25612 non-null  int64   \n",
            " 11  FlagPhone            25612 non-null  int64   \n",
            " 12  Pekerjaan            25612 non-null  category\n",
            " 13  JmlAnggotaKeluarga   25612 non-null  int64   \n",
            " 14  Age                  25612 non-null  int64   \n",
            " 15  Experience           25612 non-null  int64   \n",
            " 16  Overdue              25612 non-null  int64   \n",
            "dtypes: category(9), int64(8)\n",
            "memory usage: 1.8 MB\n",
            "None\n"
          ]
        }
      ]
    },
    {
      "cell_type": "code",
      "source": [
        "data_final['Overdue'].value_counts().plot(kind = 'bar')"
      ],
      "metadata": {
        "colab": {
          "base_uri": "https://localhost:8080/"
        },
        "id": "5BEOmvynnK4M",
        "outputId": "cc238e34-c3f9-4c24-a758-3f6b1046af9a"
      },
      "execution_count": null,
      "outputs": [
        {
          "output_type": "execute_result",
          "data": {
            "text/plain": [
              "<matplotlib.axes._subplots.AxesSubplot at 0x7f9faa6633d0>"
            ]
          },
          "metadata": {},
          "execution_count": 9
        },
        {
          "output_type": "display_data",
          "data": {
            "text/plain": [
              "<Figure size 432x288 with 1 Axes>"
            ],
            "image/png": "[encoded data removed]"
          },
          "metadata": {
            "needs_background": "light"
          }
        }
      ]
    },
    {
      "cell_type": "markdown",
      "source": [
        "## Feature Selection"
      ],
      "metadata": {
        "id": "a8HaU-vq5xvE"
      }
    },
    {
      "cell_type": "code",
      "source": [
        "remove_cols = data_final.columns.to_list()\n",
        "#remove_cols.remove(remove_cols[0])\n",
        "remove_cols.remove('Overdue')"
      ],
      "metadata": {
        "id": "ggJw-lhY5235"
      },
      "execution_count": null,
      "outputs": []
    },
    {
      "cell_type": "code",
      "source": [
        "y = data_final['Overdue']\n",
        "X = data_final[remove_cols]"
      ],
      "metadata": {
        "id": "uFFTuJXg6KiZ"
      },
      "execution_count": null,
      "outputs": []
    },
    {
      "cell_type": "code",
      "source": [
        "from sklearn.preprocessing import LabelEncoder\n",
        "\n",
        "# Assigning numerical values and storing in another column\n",
        "X = X.apply(LabelEncoder().fit_transform)\n",
        "X"
      ],
      "metadata": {
        "colab": {
          "base_uri": "https://localhost:8080/",
          "height": 488
        },
        "id": "ASf7AEPf-pfa",
        "outputId": "541257a9-ed5f-4843-a8ac-b4cf7904b011"
      },
      "execution_count": null,
      "outputs": [
        {
          "output_type": "execute_result",
          "data": {
            "text/plain": [
              "       Id_customer  JK  KepemilikanMobil  KepemilikanProperti  JmlAnak  \\\n",
              "0                1   1                 0                    1        0   \n",
              "1                2   1                 0                    1        0   \n",
              "2                3   1                 0                    1        0   \n",
              "3               10   1                 1                    0        0   \n",
              "4               10   1                 1                    0        0   \n",
              "...            ...  ..               ...                  ...      ...   \n",
              "25607        21980   0                 1                    0        1   \n",
              "25608        21980   0                 1                    0        1   \n",
              "25609        22351   0                 1                    1        0   \n",
              "25610        22552   0                 0                    1        0   \n",
              "25611        22552   0                 0                    1        0   \n",
              "\n",
              "       Pendapatan  TipePendapatan  TingkatPendidikan  StatusKeluarga  \\\n",
              "0             124               0                  0               2   \n",
              "1             124               0                  0               2   \n",
              "2             124               0                  0               2   \n",
              "3              53               1                  0               1   \n",
              "4              53               1                  0               1   \n",
              "...           ...             ...                ...             ...   \n",
              "25607         158               1                  1               1   \n",
              "25608         158               1                  1               1   \n",
              "25609         134               1                  0               1   \n",
              "25610          37               1                  0               2   \n",
              "25611          37               1                  0               2   \n",
              "\n",
              "       TipeRumah  FlagWorkPhone  FlagPhone  Pekerjaan  JmlAnggotaKeluarga  \\\n",
              "0              1              0          1         14                   0   \n",
              "1              1              0          1         14                   0   \n",
              "2              1              0          1         14                   0   \n",
              "3              1              0          0          0                   1   \n",
              "4              1              0          0          0                   1   \n",
              "...          ...            ...        ...        ...                 ...   \n",
              "25607          1              0          1          3                   2   \n",
              "25608          1              0          1          3                   2   \n",
              "25609          1              0          0         10                   1   \n",
              "25610          4              0          0          8                   0   \n",
              "25611          4              0          0          8                   0   \n",
              "\n",
              "       Age  Experience  \n",
              "0       31           8  \n",
              "1       31           8  \n",
              "2       31           8  \n",
              "3        8           3  \n",
              "4        8           3  \n",
              "...    ...         ...  \n",
              "25607    6           1  \n",
              "25608    6           1  \n",
              "25609   27           7  \n",
              "25610    4           3  \n",
              "25611    4           3  \n",
              "\n",
              "[25612 rows x 16 columns]"
            ],
            "text/html": [
              "\n",
              "  <div id=\"df-fe094c05-714e-4b38-85be-71dce4c0d0c4\">\n",
              "    <div class=\"colab-df-container\">\n",
              "      <div>\n",
              "<style scoped>\n",
              "    .dataframe tbody tr th:only-of-type {\n",
              "        vertical-align: middle;\n",
              "    }\n",
              "\n",
              "    .dataframe tbody tr th {\n",
              "        vertical-align: top;\n",
              "    }\n",
              "\n",
              "    .dataframe thead th {\n",
              "        text-align: right;\n",
              "    }\n",
              "</style>\n",
              "<table border=\"1\" class=\"dataframe\">\n",
              "  <thead>\n",
              "    <tr style=\"text-align: right;\">\n",
              "      <th></th>\n",
              "      <th>Id_customer</th>\n",
              "      <th>JK</th>\n",
              "      <th>KepemilikanMobil</th>\n",
              "      <th>KepemilikanProperti</th>\n",
              "      <th>JmlAnak</th>\n",
              "      <th>Pendapatan</th>\n",
              "      <th>TipePendapatan</th>\n",
              "      <th>TingkatPendidikan</th>\n",
              "      <th>StatusKeluarga</th>\n",
              "      <th>TipeRumah</th>\n",
              "      <th>FlagWorkPhone</th>\n",
              "      <th>FlagPhone</th>\n",
              "      <th>Pekerjaan</th>\n",
              "      <th>JmlAnggotaKeluarga</th>\n",
              "      <th>Age</th>\n",
              "      <th>Experience</th>\n",
              "    </tr>\n",
              "  </thead>\n",
              "  <tbody>\n",
              "    <tr>\n",
              "      <th>0</th>\n",
              "      <td>1</td>\n",
              "      <td>1</td>\n",
              "      <td>0</td>\n",
              "      <td>1</td>\n",
              "      <td>0</td>\n",
              "      <td>124</td>\n",
              "      <td>0</td>\n",
              "      <td>0</td>\n",
              "      <td>2</td>\n",
              "      <td>1</td>\n",
              "      <td>0</td>\n",
              "      <td>1</td>\n",
              "      <td>14</td>\n",
              "      <td>0</td>\n",
              "      <td>31</td>\n",
              "      <td>8</td>\n",
              "    </tr>\n",
              "    <tr>\n",
              "      <th>1</th>\n",
              "      <td>2</td>\n",
              "      <td>1</td>\n",
              "      <td>0</td>\n",
              "      <td>1</td>\n",
              "      <td>0</td>\n",
              "      <td>124</td>\n",
              "      <td>0</td>\n",
              "      <td>0</td>\n",
              "      <td>2</td>\n",
              "      <td>1</td>\n",
              "      <td>0</td>\n",
              "      <td>1</td>\n",
              "      <td>14</td>\n",
              "      <td>0</td>\n",
              "      <td>31</td>\n",
              "      <td>8</td>\n",
              "    </tr>\n",
              "    <tr>\n",
              "      <th>2</th>\n",
              "      <td>3</td>\n",
              "      <td>1</td>\n",
              "      <td>0</td>\n",
              "      <td>1</td>\n",
              "      <td>0</td>\n",
              "      <td>124</td>\n",
              "      <td>0</td>\n",
              "      <td>0</td>\n",
              "      <td>2</td>\n",
              "      <td>1</td>\n",
              "      <td>0</td>\n",
              "      <td>1</td>\n",
              "      <td>14</td>\n",
              "      <td>0</td>\n",
              "      <td>31</td>\n",
              "      <td>8</td>\n",
              "    </tr>\n",
              "    <tr>\n",
              "      <th>3</th>\n",
              "      <td>10</td>\n",
              "      <td>1</td>\n",
              "      <td>1</td>\n",
              "      <td>0</td>\n",
              "      <td>0</td>\n",
              "      <td>53</td>\n",
              "      <td>1</td>\n",
              "      <td>0</td>\n",
              "      <td>1</td>\n",
              "      <td>1</td>\n",
              "      <td>0</td>\n",
              "      <td>0</td>\n",
              "      <td>0</td>\n",
              "      <td>1</td>\n",
              "      <td>8</td>\n",
              "      <td>3</td>\n",
              "    </tr>\n",
              "    <tr>\n",
              "      <th>4</th>\n",
              "      <td>10</td>\n",
              "      <td>1</td>\n",
              "      <td>1</td>\n",
              "      <td>0</td>\n",
              "      <td>0</td>\n",
              "      <td>53</td>\n",
              "      <td>1</td>\n",
              "      <td>0</td>\n",
              "      <td>1</td>\n",
              "      <td>1</td>\n",
              "      <td>0</td>\n",
              "      <td>0</td>\n",
              "      <td>0</td>\n",
              "      <td>1</td>\n",
              "      <td>8</td>\n",
              "      <td>3</td>\n",
              "    </tr>\n",
              "    <tr>\n",
              "      <th>...</th>\n",
              "      <td>...</td>\n",
              "      <td>...</td>\n",
              "      <td>...</td>\n",
              "      <td>...</td>\n",
              "      <td>...</td>\n",
              "      <td>...</td>\n",
              "      <td>...</td>\n",
              "      <td>...</td>\n",
              "      <td>...</td>\n",
              "      <td>...</td>\n",
              "      <td>...</td>\n",
              "      <td>...</td>\n",
              "      <td>...</td>\n",
              "      <td>...</td>\n",
              "      <td>...</td>\n",
              "      <td>...</td>\n",
              "    </tr>\n",
              "    <tr>\n",
              "      <th>25607</th>\n",
              "      <td>21980</td>\n",
              "      <td>0</td>\n",
              "      <td>1</td>\n",
              "      <td>0</td>\n",
              "      <td>1</td>\n",
              "      <td>158</td>\n",
              "      <td>1</td>\n",
              "      <td>1</td>\n",
              "      <td>1</td>\n",
              "      <td>1</td>\n",
              "      <td>0</td>\n",
              "      <td>1</td>\n",
              "      <td>3</td>\n",
              "      <td>2</td>\n",
              "      <td>6</td>\n",
              "      <td>1</td>\n",
              "    </tr>\n",
              "    <tr>\n",
              "      <th>25608</th>\n",
              "      <td>21980</td>\n",
              "      <td>0</td>\n",
              "      <td>1</td>\n",
              "      <td>0</td>\n",
              "      <td>1</td>\n",
              "      <td>158</td>\n",
              "      <td>1</td>\n",
              "      <td>1</td>\n",
              "      <td>1</td>\n",
              "      <td>1</td>\n",
              "      <td>0</td>\n",
              "      <td>1</td>\n",
              "      <td>3</td>\n",
              "      <td>2</td>\n",
              "      <td>6</td>\n",
              "      <td>1</td>\n",
              "    </tr>\n",
              "    <tr>\n",
              "      <th>25609</th>\n",
              "      <td>22351</td>\n",
              "      <td>0</td>\n",
              "      <td>1</td>\n",
              "      <td>1</td>\n",
              "      <td>0</td>\n",
              "      <td>134</td>\n",
              "      <td>1</td>\n",
              "      <td>0</td>\n",
              "      <td>1</td>\n",
              "      <td>1</td>\n",
              "      <td>0</td>\n",
              "      <td>0</td>\n",
              "      <td>10</td>\n",
              "      <td>1</td>\n",
              "      <td>27</td>\n",
              "      <td>7</td>\n",
              "    </tr>\n",
              "    <tr>\n",
              "      <th>25610</th>\n",
              "      <td>22552</td>\n",
              "      <td>0</td>\n",
              "      <td>0</td>\n",
              "      <td>1</td>\n",
              "      <td>0</td>\n",
              "      <td>37</td>\n",
              "      <td>1</td>\n",
              "      <td>0</td>\n",
              "      <td>2</td>\n",
              "      <td>4</td>\n",
              "      <td>0</td>\n",
              "      <td>0</td>\n",
              "      <td>8</td>\n",
              "      <td>0</td>\n",
              "      <td>4</td>\n",
              "      <td>3</td>\n",
              "    </tr>\n",
              "    <tr>\n",
              "      <th>25611</th>\n",
              "      <td>22552</td>\n",
              "      <td>0</td>\n",
              "      <td>0</td>\n",
              "      <td>1</td>\n",
              "      <td>0</td>\n",
              "      <td>37</td>\n",
              "      <td>1</td>\n",
              "      <td>0</td>\n",
              "      <td>2</td>\n",
              "      <td>4</td>\n",
              "      <td>0</td>\n",
              "      <td>0</td>\n",
              "      <td>8</td>\n",
              "      <td>0</td>\n",
              "      <td>4</td>\n",
              "      <td>3</td>\n",
              "    </tr>\n",
              "  </tbody>\n",
              "</table>\n",
              "<p>25612 rows × 16 columns</p>\n",
              "</div>\n",
              "      <button class=\"colab-df-convert\" onclick=\"convertToInteractive('df-fe094c05-714e-4b38-85be-71dce4c0d0c4')\"\n",
              "              title=\"Convert this dataframe to an interactive table.\"\n",
              "              style=\"display:none;\">\n",
              "        \n",
              "  <svg xmlns=\"http://www.w3.org/2000/svg\" height=\"24px\"viewBox=\"0 0 24 24\"\n",
              "       width=\"24px\">\n",
              "    <path d=\"M0 0h24v24H0V0z\" fill=\"none\"/>\n",
              "    <path d=\"M18.56 5.44l.94 2.06.94-2.06 2.06-.94-2.06-.94-.94-2.06-.94 2.06-2.06.94zm-11 1L8.5 8.5l.94-2.06 2.06-.94-2.06-.94L8.5 2.5l-.94 2.06-2.06.94zm10 10l.94 2.06.94-2.06 2.06-.94-2.06-.94-.94-2.06-.94 2.06-2.06.94z\"/><path d=\"M17.41 7.96l-1.37-1.37c-.4-.4-.92-.59-1.43-.59-.52 0-1.04.2-1.43.59L10.3 9.45l-7.72 7.72c-.78.78-.78 2.05 0 2.83L4 21.41c.39.39.9.59 1.41.59.51 0 1.02-.2 1.41-.59l7.78-7.78 2.81-2.81c.8-.78.8-2.07 0-2.86zM5.41 20L4 18.59l7.72-7.72 1.47 1.35L5.41 20z\"/>\n",
              "  </svg>\n",
              "      </button>\n",
              "      \n",
              "  <style>\n",
              "    .colab-df-container {\n",
              "      display:flex;\n",
              "      flex-wrap:wrap;\n",
              "      gap: 12px;\n",
              "    }\n",
              "\n",
              "    .colab-df-convert {\n",
              "      background-color: #E8F0FE;\n",
              "      border: none;\n",
              "      border-radius: 50%;\n",
              "      cursor: pointer;\n",
              "      display: none;\n",
              "      fill: #1967D2;\n",
              "      height: 32px;\n",
              "      padding: 0 0 0 0;\n",
              "      width: 32px;\n",
              "    }\n",
              "\n",
              "    .colab-df-convert:hover {\n",
              "      background-color: #E2EBFA;\n",
              "      box-shadow: 0px 1px 2px rgba(60, 64, 67, 0.3), 0px 1px 3px 1px rgba(60, 64, 67, 0.15);\n",
              "      fill: #174EA6;\n",
              "    }\n",
              "\n",
              "    [theme=dark] .colab-df-convert {\n",
              "      background-color: #3B4455;\n",
              "      fill: #D2E3FC;\n",
              "    }\n",
              "\n",
              "    [theme=dark] .colab-df-convert:hover {\n",
              "      background-color: #434B5C;\n",
              "      box-shadow: 0px 1px 3px 1px rgba(0, 0, 0, 0.15);\n",
              "      filter: drop-shadow(0px 1px 2px rgba(0, 0, 0, 0.3));\n",
              "      fill: #FFFFFF;\n",
              "    }\n",
              "  </style>\n",
              "\n",
              "      <script>\n",
              "        const buttonEl =\n",
              "          document.querySelector('#df-fe094c05-714e-4b38-85be-71dce4c0d0c4 button.colab-df-convert');\n",
              "        buttonEl.style.display =\n",
              "          google.colab.kernel.accessAllowed ? 'block' : 'none';\n",
              "\n",
              "        async function convertToInteractive(key) {\n",
              "          const element = document.querySelector('#df-fe094c05-714e-4b38-85be-71dce4c0d0c4');\n",
              "          const dataTable =\n",
              "            await google.colab.kernel.invokeFunction('convertToInteractive',\n",
              "                                                     [key], {});\n",
              "          if (!dataTable) return;\n",
              "\n",
              "          const docLinkHtml = 'Like what you see? Visit the ' +\n",
              "            '<a target=\"_blank\" href=https://colab.research.google.com/notebooks/data_table.ipynb>data table notebook</a>'\n",
              "            + ' to learn more about interactive tables.';\n",
              "          element.innerHTML = '';\n",
              "          dataTable['output_type'] = 'display_data';\n",
              "          await google.colab.output.renderOutput(dataTable, element);\n",
              "          const docLink = document.createElement('div');\n",
              "          docLink.innerHTML = docLinkHtml;\n",
              "          element.appendChild(docLink);\n",
              "        }\n",
              "      </script>\n",
              "    </div>\n",
              "  </div>\n",
              "  "
            ]
          },
          "metadata": {},
          "execution_count": 12
        }
      ]
    },
    {
      "cell_type": "code",
      "source": [
        "y=y.astype('int')\n",
        "X_train, X_test, y_train, y_test = train_test_split(X.values,y.values,stratify=y, test_size=0.3,random_state=11)"
      ],
      "metadata": {
        "id": "FS-K0QrF6UC6"
      },
      "execution_count": null,
      "outputs": []
    },
    {
      "cell_type": "code",
      "source": [
        "y.value_counts()"
      ],
      "metadata": {
        "colab": {
          "base_uri": "https://localhost:8080/"
        },
        "id": "DDzL1dx76eNu",
        "outputId": "1737e6fb-0c3b-4203-a17f-8d117e51eee4"
      },
      "execution_count": null,
      "outputs": [
        {
          "output_type": "execute_result",
          "data": {
            "text/plain": [
              "0    22577\n",
              "1     3035\n",
              "Name: Overdue, dtype: int64"
            ]
          },
          "metadata": {},
          "execution_count": 14
        }
      ]
    },
    {
      "cell_type": "code",
      "source": [
        "X_balance,y_balance = SMOTE().fit_resample(X,y)\n",
        "X_balance = pd.DataFrame(X_balance, columns = X.columns)"
      ],
      "metadata": {
        "id": "Gp8iJ4iv6gsp"
      },
      "execution_count": null,
      "outputs": []
    },
    {
      "cell_type": "code",
      "source": [
        "y_balance.value_counts()"
      ],
      "metadata": {
        "colab": {
          "base_uri": "https://localhost:8080/"
        },
        "id": "c0Xqp5ud6jdi",
        "outputId": "766faa8f-cbc8-42b5-99ff-80d62a0d1708"
      },
      "execution_count": null,
      "outputs": [
        {
          "output_type": "execute_result",
          "data": {
            "text/plain": [
              "0    22577\n",
              "1    22577\n",
              "Name: Overdue, dtype: int64"
            ]
          },
          "metadata": {},
          "execution_count": 16
        }
      ]
    },
    {
      "cell_type": "code",
      "source": [
        "X_train, X_test, y_train, y_test = train_test_split(X_balance,y_balance,stratify=y_balance, test_size=0.3,random_state = 11)"
      ],
      "metadata": {
        "id": "nKy-Lyjz6mck"
      },
      "execution_count": null,
      "outputs": []
    },
    {
      "cell_type": "markdown",
      "source": [
        "## Modeling"
      ],
      "metadata": {
        "id": "tgGq_apN_Sbk"
      }
    },
    {
      "cell_type": "markdown",
      "source": [
        "### Decision Tree Classifier"
      ],
      "metadata": {
        "id": "Rj9Endt5_4Fb"
      }
    },
    {
      "cell_type": "code",
      "source": [
        "DT = DecisionTreeClassifier()\n",
        "DT.fit(X_train, y_train)\n",
        "y_predict = DT.predict(X_test)\n",
        "\n",
        "print('Accuracy : {n}'.format(n=accuracy_score(y_test, y_predict)))\n",
        "print('F1 Score : {n}'.format(n=f1_score(y_test, y_predict)))\n",
        "print(pd.DataFrame(confusion_matrix(y_test,y_predict)))"
      ],
      "metadata": {
        "colab": {
          "base_uri": "https://localhost:8080/"
        },
        "id": "HSOkIZeH_5j_",
        "outputId": "e66a302e-55bf-4f4f-ac16-9a34209bd753"
      },
      "execution_count": null,
      "outputs": [
        {
          "output_type": "stream",
          "name": "stdout",
          "text": [
            "Accuracy : 0.8087399424226767\n",
            "F1 Score : 0.8091625543198055\n",
            "      0     1\n",
            "0  5463  1310\n",
            "1  1281  5493\n"
          ]
        }
      ]
    },
    {
      "cell_type": "markdown",
      "source": [
        "### KNeighbor Classifier"
      ],
      "metadata": {
        "id": "ShAJrzUinkH7"
      }
    },
    {
      "cell_type": "code",
      "source": [
        "knn = KNeighborsClassifier()\n",
        "knn.fit(X_train, y_train)\n",
        "y_predict = knn.predict(X_test)\n",
        "\n",
        "print('Accuracy : {n}'.format(n=accuracy_score(y_test, y_predict)))\n",
        "print('F1 Score : {n}'.format(n=f1_score(y_test, y_predict)))\n",
        "print(pd.DataFrame(confusion_matrix(y_test,y_predict)))"
      ],
      "metadata": {
        "id": "sHzOtGxQ_5mx",
        "colab": {
          "base_uri": "https://localhost:8080/"
        },
        "outputId": "b65bcd63-df1f-4e47-b02f-f911e64fcfc4"
      },
      "execution_count": null,
      "outputs": [
        {
          "output_type": "stream",
          "name": "stdout",
          "text": [
            "Accuracy : 0.7791392928323614\n",
            "F1 Score : 0.7932273669661369\n",
            "      0     1\n",
            "0  4816  1957\n",
            "1  1035  5739\n"
          ]
        }
      ]
    },
    {
      "cell_type": "markdown",
      "source": [
        "### XGBClassifier"
      ],
      "metadata": {
        "id": "W4e5TRK6ntLd"
      }
    },
    {
      "cell_type": "code",
      "source": [
        "xgb = XGBClassifier()\n",
        "xgb.fit(X_train, y_train)\n",
        "y_predict = xgb.predict(X_test)\n",
        "\n",
        "print('Accuracy : {n}'.format(n=accuracy_score(y_test, y_predict)))\n",
        "print('F1 Score : {n}'.format(n=f1_score(y_test, y_predict)))\n",
        "print(pd.DataFrame(confusion_matrix(y_test,y_predict)))"
      ],
      "metadata": {
        "id": "9Mk69nR3KeXv",
        "colab": {
          "base_uri": "https://localhost:8080/"
        },
        "outputId": "637b740c-1b17-4916-a0d6-7d29475e19e9"
      },
      "execution_count": null,
      "outputs": [
        {
          "output_type": "stream",
          "name": "stdout",
          "text": [
            "Accuracy : 0.7295342142171699\n",
            "F1 Score : 0.7171530029334567\n",
            "      0     1\n",
            "0  5238  1535\n",
            "1  2129  4645\n"
          ]
        }
      ]
    },
    {
      "cell_type": "markdown",
      "source": [
        "## Modeling Evaluation"
      ],
      "metadata": {
        "id": "8iA6da_BNIrG"
      }
    },
    {
      "cell_type": "code",
      "source": [
        "from sklearn.model_selection import KFold\n",
        "\n",
        "kf = KFold(n_splits=5, random_state=None)\n",
        "\n",
        "acc_score_knn = []\n",
        "acc_score_dt = []\n",
        "acc_score_xgb = []\n",
        "\n",
        "f1_score_knn = []\n",
        "f1_score_dt = []\n",
        "f1_score_xgb = []\n",
        "\n",
        "for train_index , test_index in kf.split(X_balance):\n",
        "    X_train , X_test = X_balance.iloc[train_index,:],X_balance.iloc[test_index,:]\n",
        "    y_train , y_test = y_balance[train_index] , y_balance[test_index]\n",
        "\n",
        "    knn.fit(X_train, y_train)\n",
        "    DT.fit(X_train, y_train)\n",
        "    xgb.fit(X_train, y_train)\n",
        "\n",
        "    acc_score_knn.append(accuracy_score(y_test, knn.predict(X_test)))\n",
        "    acc_score_dt.append(accuracy_score(y_test, DT.predict(X_test)))\n",
        "    acc_score_xgb.append(accuracy_score(y_test, xgb.predict(X_test)))\n",
        "\n",
        "    f1_score_knn.append(accuracy_score(y_test, knn.predict(X_test)))\n",
        "    f1_score_dt.append(accuracy_score(y_test, DT.predict(X_test)))\n",
        "    f1_score_xgb.append(accuracy_score(y_test, xgb.predict(X_test)))"
      ],
      "metadata": {
        "id": "5FAQGvRtNJND"
      },
      "execution_count": null,
      "outputs": []
    },
    {
      "cell_type": "code",
      "source": [
        "print('accuracy of each fold - {}'.format(acc_score_dt))\n",
        "print('Avg accuracy : {}'.format(sum(acc_score_dt)/5))\n",
        "print('Avg f1 score : {}'.format(sum(f1_score_dt)/5))"
      ],
      "metadata": {
        "colab": {
          "base_uri": "https://localhost:8080/"
        },
        "id": "aHoMnP-PQEpy",
        "outputId": "05b75807-f15e-4018-8725-94bc45d6b6f2"
      },
      "execution_count": null,
      "outputs": [
        {
          "output_type": "stream",
          "name": "stdout",
          "text": [
            "accuracy of each fold - [0.27527405602923266, 0.26807662495847634, 0.3024028346805448, 0.8333517882847968, 0.8347729789590255]\n",
            "Avg accuracy : 0.5027756565824152\n",
            "Avg f1 score : 0.5027756565824152\n"
          ]
        }
      ]
    },
    {
      "cell_type": "code",
      "source": [
        "print('accuracy of each fold - {}'.format(acc_score_knn))\n",
        "print('Avg accuracy : {}'.format(sum(acc_score_knn)/5))\n",
        "print('Avg f1 score : {}'.format(sum(f1_score_knn)/5))"
      ],
      "metadata": {
        "colab": {
          "base_uri": "https://localhost:8080/"
        },
        "id": "FcbQIWtDQB-a",
        "outputId": "6465f0be-8686-4ded-d3e6-fa2305a0b849"
      },
      "execution_count": null,
      "outputs": [
        {
          "output_type": "stream",
          "name": "stdout",
          "text": [
            "accuracy of each fold - [0.36064666149928026, 0.40482781530284573, 0.5224227660281253, 0.7887277156461079, 0.7787375415282392]\n",
            "Avg accuracy : 0.5710725000009197\n",
            "Avg f1 score : 0.5710725000009197\n"
          ]
        }
      ]
    },
    {
      "cell_type": "code",
      "source": [
        "print('accuracy of each fold - {}'.format(acc_score_xgb))\n",
        "print('Avg accuracy : {}'.format(sum(acc_score_xgb)/5))\n",
        "print('Avg f1 score : {}'.format(sum(f1_score_xgb)/5))"
      ],
      "metadata": {
        "colab": {
          "base_uri": "https://localhost:8080/"
        },
        "id": "U9tvzawxRSEz",
        "outputId": "688893c9-bd9b-4ace-ff19-54117f697732"
      },
      "execution_count": null,
      "outputs": [
        {
          "output_type": "stream",
          "name": "stdout",
          "text": [
            "accuracy of each fold - [0.13475805558631382, 0.14981729598051158, 0.24415900786180933, 0.5635034879858266, 0.5676633444075304]\n",
            "Avg accuracy : 0.33198023836439833\n",
            "Avg f1 score : 0.33198023836439833\n"
          ]
        }
      ]
    },
    {
      "cell_type": "markdown",
      "source": [
        "# DATA TESTING"
      ],
      "metadata": {
        "id": "UoSYMRbxp8TH"
      }
    },
    {
      "cell_type": "markdown",
      "source": [
        "## Load Data Test"
      ],
      "metadata": {
        "id": "f-mnRoq9qI--"
      }
    },
    {
      "cell_type": "code",
      "source": [
        "#Import data from Google drive\n",
        "data_test = pd.read_csv('/content/drive/My Drive/Project/Studi_Independen/Testing/data_test.csv')\n",
        "data_test.head()"
      ],
      "metadata": {
        "colab": {
          "base_uri": "https://localhost:8080/",
          "height": 357
        },
        "id": "J4foriXBp_gI",
        "outputId": "519030a5-b1ef-43fe-9bcc-c172ed9ad4c2"
      },
      "execution_count": null,
      "outputs": [
        {
          "output_type": "execute_result",
          "data": {
            "text/plain": [
              "   Id_customer         JK KepemilikanMobil KepemilikanProperti  JmlAnak  \\\n",
              "0      5142248  Perempuan            Tidak                  Ya        0   \n",
              "1      5036925  Perempuan               Ya                  Ya        0   \n",
              "2      5126080  Perempuan            Tidak                  Ya        1   \n",
              "3      5088887  Perempuan            Tidak                  Ya        0   \n",
              "4      5022156  Perempuan               Ya                  Ya        2   \n",
              "\n",
              "   Pendapatan      TipePendapatan TingkatPendidikan StatusKeluarga  \\\n",
              "0    225000.0                 PNS          Graduate        Menikah   \n",
              "1    157500.0  Asosiasi komersial          Graduate        Menikah   \n",
              "2    112500.0                 PNS          Graduate        Menikah   \n",
              "3    171000.0             Bekerja          Graduate  Belum Menikah   \n",
              "4    180000.0  Asosiasi komersial      Postgraduate        Menikah   \n",
              "\n",
              "        TipeRumah  FlagMobile  FlagWorkPhone  FlagPhone  Email  \\\n",
              "0   Rumah pribadi           1              0          0      0   \n",
              "1   Rumah pribadi           1              1          1      1   \n",
              "2   Rumah pribadi           1              0          0      0   \n",
              "3  Sewa Apartemen           1              0          0      0   \n",
              "4   Rumah pribadi           1              0          1      1   \n",
              "\n",
              "               Pekerjaan  JmlAnggotaKeluarga   Age  Experience  \n",
              "0  Private service staff                 2.0  54.0         6.0  \n",
              "1             Core staff                 2.0  33.0         8.0  \n",
              "2               Managers                 3.0  41.0         7.0  \n",
              "3               Laborers                 1.0  46.0         2.0  \n",
              "4                    NaN                 4.0  32.0         8.0  "
            ],
            "text/html": [
              "\n",
              "  <div id=\"df-bfd74080-8958-49d4-b4f4-fdc12e95922b\">\n",
              "    <div class=\"colab-df-container\">\n",
              "      <div>\n",
              "<style scoped>\n",
              "    .dataframe tbody tr th:only-of-type {\n",
              "        vertical-align: middle;\n",
              "    }\n",
              "\n",
              "    .dataframe tbody tr th {\n",
              "        vertical-align: top;\n",
              "    }\n",
              "\n",
              "    .dataframe thead th {\n",
              "        text-align: right;\n",
              "    }\n",
              "</style>\n",
              "<table border=\"1\" class=\"dataframe\">\n",
              "  <thead>\n",
              "    <tr style=\"text-align: right;\">\n",
              "      <th></th>\n",
              "      <th>Id_customer</th>\n",
              "      <th>JK</th>\n",
              "      <th>KepemilikanMobil</th>\n",
              "      <th>KepemilikanProperti</th>\n",
              "      <th>JmlAnak</th>\n",
              "      <th>Pendapatan</th>\n",
              "      <th>TipePendapatan</th>\n",
              "      <th>TingkatPendidikan</th>\n",
              "      <th>StatusKeluarga</th>\n",
              "      <th>TipeRumah</th>\n",
              "      <th>FlagMobile</th>\n",
              "      <th>FlagWorkPhone</th>\n",
              "      <th>FlagPhone</th>\n",
              "      <th>Email</th>\n",
              "      <th>Pekerjaan</th>\n",
              "      <th>JmlAnggotaKeluarga</th>\n",
              "      <th>Age</th>\n",
              "      <th>Experience</th>\n",
              "    </tr>\n",
              "  </thead>\n",
              "  <tbody>\n",
              "    <tr>\n",
              "      <th>0</th>\n",
              "      <td>5142248</td>\n",
              "      <td>Perempuan</td>\n",
              "      <td>Tidak</td>\n",
              "      <td>Ya</td>\n",
              "      <td>0</td>\n",
              "      <td>225000.0</td>\n",
              "      <td>PNS</td>\n",
              "      <td>Graduate</td>\n",
              "      <td>Menikah</td>\n",
              "      <td>Rumah pribadi</td>\n",
              "      <td>1</td>\n",
              "      <td>0</td>\n",
              "      <td>0</td>\n",
              "      <td>0</td>\n",
              "      <td>Private service staff</td>\n",
              "      <td>2.0</td>\n",
              "      <td>54.0</td>\n",
              "      <td>6.0</td>\n",
              "    </tr>\n",
              "    <tr>\n",
              "      <th>1</th>\n",
              "      <td>5036925</td>\n",
              "      <td>Perempuan</td>\n",
              "      <td>Ya</td>\n",
              "      <td>Ya</td>\n",
              "      <td>0</td>\n",
              "      <td>157500.0</td>\n",
              "      <td>Asosiasi komersial</td>\n",
              "      <td>Graduate</td>\n",
              "      <td>Menikah</td>\n",
              "      <td>Rumah pribadi</td>\n",
              "      <td>1</td>\n",
              "      <td>1</td>\n",
              "      <td>1</td>\n",
              "      <td>1</td>\n",
              "      <td>Core staff</td>\n",
              "      <td>2.0</td>\n",
              "      <td>33.0</td>\n",
              "      <td>8.0</td>\n",
              "    </tr>\n",
              "    <tr>\n",
              "      <th>2</th>\n",
              "      <td>5126080</td>\n",
              "      <td>Perempuan</td>\n",
              "      <td>Tidak</td>\n",
              "      <td>Ya</td>\n",
              "      <td>1</td>\n",
              "      <td>112500.0</td>\n",
              "      <td>PNS</td>\n",
              "      <td>Graduate</td>\n",
              "      <td>Menikah</td>\n",
              "      <td>Rumah pribadi</td>\n",
              "      <td>1</td>\n",
              "      <td>0</td>\n",
              "      <td>0</td>\n",
              "      <td>0</td>\n",
              "      <td>Managers</td>\n",
              "      <td>3.0</td>\n",
              "      <td>41.0</td>\n",
              "      <td>7.0</td>\n",
              "    </tr>\n",
              "    <tr>\n",
              "      <th>3</th>\n",
              "      <td>5088887</td>\n",
              "      <td>Perempuan</td>\n",
              "      <td>Tidak</td>\n",
              "      <td>Ya</td>\n",
              "      <td>0</td>\n",
              "      <td>171000.0</td>\n",
              "      <td>Bekerja</td>\n",
              "      <td>Graduate</td>\n",
              "      <td>Belum Menikah</td>\n",
              "      <td>Sewa Apartemen</td>\n",
              "      <td>1</td>\n",
              "      <td>0</td>\n",
              "      <td>0</td>\n",
              "      <td>0</td>\n",
              "      <td>Laborers</td>\n",
              "      <td>1.0</td>\n",
              "      <td>46.0</td>\n",
              "      <td>2.0</td>\n",
              "    </tr>\n",
              "    <tr>\n",
              "      <th>4</th>\n",
              "      <td>5022156</td>\n",
              "      <td>Perempuan</td>\n",
              "      <td>Ya</td>\n",
              "      <td>Ya</td>\n",
              "      <td>2</td>\n",
              "      <td>180000.0</td>\n",
              "      <td>Asosiasi komersial</td>\n",
              "      <td>Postgraduate</td>\n",
              "      <td>Menikah</td>\n",
              "      <td>Rumah pribadi</td>\n",
              "      <td>1</td>\n",
              "      <td>0</td>\n",
              "      <td>1</td>\n",
              "      <td>1</td>\n",
              "      <td>NaN</td>\n",
              "      <td>4.0</td>\n",
              "      <td>32.0</td>\n",
              "      <td>8.0</td>\n",
              "    </tr>\n",
              "  </tbody>\n",
              "</table>\n",
              "</div>\n",
              "      <button class=\"colab-df-convert\" onclick=\"convertToInteractive('df-bfd74080-8958-49d4-b4f4-fdc12e95922b')\"\n",
              "              title=\"Convert this dataframe to an interactive table.\"\n",
              "              style=\"display:none;\">\n",
              "        \n",
              "  <svg xmlns=\"http://www.w3.org/2000/svg\" height=\"24px\"viewBox=\"0 0 24 24\"\n",
              "       width=\"24px\">\n",
              "    <path d=\"M0 0h24v24H0V0z\" fill=\"none\"/>\n",
              "    <path d=\"M18.56 5.44l.94 2.06.94-2.06 2.06-.94-2.06-.94-.94-2.06-.94 2.06-2.06.94zm-11 1L8.5 8.5l.94-2.06 2.06-.94-2.06-.94L8.5 2.5l-.94 2.06-2.06.94zm10 10l.94 2.06.94-2.06 2.06-.94-2.06-.94-.94-2.06-.94 2.06-2.06.94z\"/><path d=\"M17.41 7.96l-1.37-1.37c-.4-.4-.92-.59-1.43-.59-.52 0-1.04.2-1.43.59L10.3 9.45l-7.72 7.72c-.78.78-.78 2.05 0 2.83L4 21.41c.39.39.9.59 1.41.59.51 0 1.02-.2 1.41-.59l7.78-7.78 2.81-2.81c.8-.78.8-2.07 0-2.86zM5.41 20L4 18.59l7.72-7.72 1.47 1.35L5.41 20z\"/>\n",
              "  </svg>\n",
              "      </button>\n",
              "      \n",
              "  <style>\n",
              "    .colab-df-container {\n",
              "      display:flex;\n",
              "      flex-wrap:wrap;\n",
              "      gap: 12px;\n",
              "    }\n",
              "\n",
              "    .colab-df-convert {\n",
              "      background-color: #E8F0FE;\n",
              "      border: none;\n",
              "      border-radius: 50%;\n",
              "      cursor: pointer;\n",
              "      display: none;\n",
              "      fill: #1967D2;\n",
              "      height: 32px;\n",
              "      padding: 0 0 0 0;\n",
              "      width: 32px;\n",
              "    }\n",
              "\n",
              "    .colab-df-convert:hover {\n",
              "      background-color: #E2EBFA;\n",
              "      box-shadow: 0px 1px 2px rgba(60, 64, 67, 0.3), 0px 1px 3px 1px rgba(60, 64, 67, 0.15);\n",
              "      fill: #174EA6;\n",
              "    }\n",
              "\n",
              "    [theme=dark] .colab-df-convert {\n",
              "      background-color: #3B4455;\n",
              "      fill: #D2E3FC;\n",
              "    }\n",
              "\n",
              "    [theme=dark] .colab-df-convert:hover {\n",
              "      background-color: #434B5C;\n",
              "      box-shadow: 0px 1px 3px 1px rgba(0, 0, 0, 0.15);\n",
              "      filter: drop-shadow(0px 1px 2px rgba(0, 0, 0, 0.3));\n",
              "      fill: #FFFFFF;\n",
              "    }\n",
              "  </style>\n",
              "\n",
              "      <script>\n",
              "        const buttonEl =\n",
              "          document.querySelector('#df-bfd74080-8958-49d4-b4f4-fdc12e95922b button.colab-df-convert');\n",
              "        buttonEl.style.display =\n",
              "          google.colab.kernel.accessAllowed ? 'block' : 'none';\n",
              "\n",
              "        async function convertToInteractive(key) {\n",
              "          const element = document.querySelector('#df-bfd74080-8958-49d4-b4f4-fdc12e95922b');\n",
              "          const dataTable =\n",
              "            await google.colab.kernel.invokeFunction('convertToInteractive',\n",
              "                                                     [key], {});\n",
              "          if (!dataTable) return;\n",
              "\n",
              "          const docLinkHtml = 'Like what you see? Visit the ' +\n",
              "            '<a target=\"_blank\" href=https://colab.research.google.com/notebooks/data_table.ipynb>data table notebook</a>'\n",
              "            + ' to learn more about interactive tables.';\n",
              "          element.innerHTML = '';\n",
              "          dataTable['output_type'] = 'display_data';\n",
              "          await google.colab.output.renderOutput(dataTable, element);\n",
              "          const docLink = document.createElement('div');\n",
              "          docLink.innerHTML = docLinkHtml;\n",
              "          element.appendChild(docLink);\n",
              "        }\n",
              "      </script>\n",
              "    </div>\n",
              "  </div>\n",
              "  "
            ]
          },
          "metadata": {},
          "execution_count": 31
        }
      ]
    },
    {
      "cell_type": "code",
      "source": [
        "data_test.info()"
      ],
      "metadata": {
        "colab": {
          "base_uri": "https://localhost:8080/"
        },
        "id": "AsS8qkenqdTl",
        "outputId": "ca418bf1-00c4-4c1a-f691-0b7fb42a7a37"
      },
      "execution_count": null,
      "outputs": [
        {
          "output_type": "stream",
          "name": "stdout",
          "text": [
            "<class 'pandas.core.frame.DataFrame'>\n",
            "RangeIndex: 200 entries, 0 to 199\n",
            "Data columns (total 18 columns):\n",
            " #   Column               Non-Null Count  Dtype  \n",
            "---  ------               --------------  -----  \n",
            " 0   Id_customer          200 non-null    int64  \n",
            " 1   JK                   200 non-null    object \n",
            " 2   KepemilikanMobil     200 non-null    object \n",
            " 3   KepemilikanProperti  200 non-null    object \n",
            " 4   JmlAnak              200 non-null    int64  \n",
            " 5   Pendapatan           200 non-null    float64\n",
            " 6   TipePendapatan       200 non-null    object \n",
            " 7   TingkatPendidikan    200 non-null    object \n",
            " 8   StatusKeluarga       200 non-null    object \n",
            " 9   TipeRumah            200 non-null    object \n",
            " 10  FlagMobile           200 non-null    int64  \n",
            " 11  FlagWorkPhone        200 non-null    int64  \n",
            " 12  FlagPhone            200 non-null    int64  \n",
            " 13  Email                200 non-null    int64  \n",
            " 14  Pekerjaan            141 non-null    object \n",
            " 15  JmlAnggotaKeluarga   200 non-null    float64\n",
            " 16  Age                  200 non-null    float64\n",
            " 17  Experience           200 non-null    float64\n",
            "dtypes: float64(4), int64(6), object(8)\n",
            "memory usage: 28.2+ KB\n"
          ]
        }
      ]
    },
    {
      "cell_type": "code",
      "source": [
        "#Dropping missing values\n",
        "data_test = data_test.dropna()\n",
        "data_test.isna().sum()"
      ],
      "metadata": {
        "colab": {
          "base_uri": "https://localhost:8080/"
        },
        "id": "CedEpVL1qlzo",
        "outputId": "9a4a89e8-4e09-418e-e6c5-8148ad6ebdef"
      },
      "execution_count": null,
      "outputs": [
        {
          "output_type": "execute_result",
          "data": {
            "text/plain": [
              "Id_customer            0\n",
              "JK                     0\n",
              "KepemilikanMobil       0\n",
              "KepemilikanProperti    0\n",
              "JmlAnak                0\n",
              "Pendapatan             0\n",
              "TipePendapatan         0\n",
              "TingkatPendidikan      0\n",
              "StatusKeluarga         0\n",
              "TipeRumah              0\n",
              "FlagMobile             0\n",
              "FlagWorkPhone          0\n",
              "FlagPhone              0\n",
              "Email                  0\n",
              "Pekerjaan              0\n",
              "JmlAnggotaKeluarga     0\n",
              "Age                    0\n",
              "Experience             0\n",
              "dtype: int64"
            ]
          },
          "metadata": {},
          "execution_count": 33
        }
      ]
    },
    {
      "cell_type": "markdown",
      "source": [
        "## Testing"
      ],
      "metadata": {
        "id": "NThbn-bXs7aY"
      }
    },
    {
      "cell_type": "code",
      "source": [
        "remove_cols = data_test.columns.to_list()\n",
        "remove_cols.remove(remove_cols[0])\n",
        "remove_cols.remove('JmlAnggotaKeluarga')\n",
        "remove_cols.remove('Pendapatan')\n",
        "remove_cols.remove('Age')\n",
        "remove_cols.remove('StatusKeluarga')\n",
        "remove_cols.remove('TipeRumah')\n",
        "remove_cols.remove('JK')\n",
        "remove_cols.remove('TingkatPendidikan')\n",
        "remove_cols.remove('TipePendapatan')\n",
        "remove_cols.remove('KepemilikanMobil')\n",
        "remove_cols.remove('FlagMobile')\n",
        "remove_cols.remove('Pekerjaan')"
      ],
      "metadata": {
        "id": "sJqThGoEr-MB"
      },
      "execution_count": null,
      "outputs": []
    },
    {
      "cell_type": "code",
      "source": [
        "X_test = data_test[remove_cols]"
      ],
      "metadata": {
        "id": "dzo9_EfWs5qT"
      },
      "execution_count": null,
      "outputs": []
    },
    {
      "cell_type": "markdown",
      "source": [
        "### Decision Tree Classifier"
      ],
      "metadata": {
        "id": "2xaZAj5LzYm1"
      }
    },
    {
      "cell_type": "code",
      "source": [
        "test_dt = DT.predict(X_test)"
      ],
      "metadata": {
        "id": "cg1i9fwktG8w"
      },
      "execution_count": null,
      "outputs": []
    },
    {
      "cell_type": "code",
      "source": [
        "result_dt = pd.DataFrame()\n",
        "result_dt['Id'] = X_test.Id_customer.values.astype(int)\n",
        "result_dt['Value'] = test_dt\n",
        "result_dt"
      ],
      "metadata": {
        "colab": {
          "base_uri": "https://localhost:8080/",
          "height": 424
        },
        "id": "SAemscvbugNu",
        "outputId": "2ade9e43-2fcd-4cf8-f598-68b09d7237b9"
      },
      "execution_count": null,
      "outputs": [
        {
          "output_type": "execute_result",
          "data": {
            "text/plain": [
              "         Id  Value\n",
              "0     19570      1\n",
              "1      1244      0\n",
              "2      6223      0\n",
              "3     22136      1\n",
              "4     10202      1\n",
              "...     ...    ...\n",
              "9025  12404      1\n",
              "9026   4249      0\n",
              "9027  13774      0\n",
              "9028  12593      1\n",
              "9029  12645      0\n",
              "\n",
              "[9030 rows x 2 columns]"
            ],
            "text/html": [
              "\n",
              "  <div id=\"df-9a49fffe-2837-44a1-9c80-50df04bcd7c3\">\n",
              "    <div class=\"colab-df-container\">\n",
              "      <div>\n",
              "<style scoped>\n",
              "    .dataframe tbody tr th:only-of-type {\n",
              "        vertical-align: middle;\n",
              "    }\n",
              "\n",
              "    .dataframe tbody tr th {\n",
              "        vertical-align: top;\n",
              "    }\n",
              "\n",
              "    .dataframe thead th {\n",
              "        text-align: right;\n",
              "    }\n",
              "</style>\n",
              "<table border=\"1\" class=\"dataframe\">\n",
              "  <thead>\n",
              "    <tr style=\"text-align: right;\">\n",
              "      <th></th>\n",
              "      <th>Id</th>\n",
              "      <th>Value</th>\n",
              "    </tr>\n",
              "  </thead>\n",
              "  <tbody>\n",
              "    <tr>\n",
              "      <th>0</th>\n",
              "      <td>19570</td>\n",
              "      <td>1</td>\n",
              "    </tr>\n",
              "    <tr>\n",
              "      <th>1</th>\n",
              "      <td>1244</td>\n",
              "      <td>0</td>\n",
              "    </tr>\n",
              "    <tr>\n",
              "      <th>2</th>\n",
              "      <td>6223</td>\n",
              "      <td>0</td>\n",
              "    </tr>\n",
              "    <tr>\n",
              "      <th>3</th>\n",
              "      <td>22136</td>\n",
              "      <td>1</td>\n",
              "    </tr>\n",
              "    <tr>\n",
              "      <th>4</th>\n",
              "      <td>10202</td>\n",
              "      <td>1</td>\n",
              "    </tr>\n",
              "    <tr>\n",
              "      <th>...</th>\n",
              "      <td>...</td>\n",
              "      <td>...</td>\n",
              "    </tr>\n",
              "    <tr>\n",
              "      <th>9025</th>\n",
              "      <td>12404</td>\n",
              "      <td>1</td>\n",
              "    </tr>\n",
              "    <tr>\n",
              "      <th>9026</th>\n",
              "      <td>4249</td>\n",
              "      <td>0</td>\n",
              "    </tr>\n",
              "    <tr>\n",
              "      <th>9027</th>\n",
              "      <td>13774</td>\n",
              "      <td>0</td>\n",
              "    </tr>\n",
              "    <tr>\n",
              "      <th>9028</th>\n",
              "      <td>12593</td>\n",
              "      <td>1</td>\n",
              "    </tr>\n",
              "    <tr>\n",
              "      <th>9029</th>\n",
              "      <td>12645</td>\n",
              "      <td>0</td>\n",
              "    </tr>\n",
              "  </tbody>\n",
              "</table>\n",
              "<p>9030 rows × 2 columns</p>\n",
              "</div>\n",
              "      <button class=\"colab-df-convert\" onclick=\"convertToInteractive('df-9a49fffe-2837-44a1-9c80-50df04bcd7c3')\"\n",
              "              title=\"Convert this dataframe to an interactive table.\"\n",
              "              style=\"display:none;\">\n",
              "        \n",
              "  <svg xmlns=\"http://www.w3.org/2000/svg\" height=\"24px\"viewBox=\"0 0 24 24\"\n",
              "       width=\"24px\">\n",
              "    <path d=\"M0 0h24v24H0V0z\" fill=\"none\"/>\n",
              "    <path d=\"M18.56 5.44l.94 2.06.94-2.06 2.06-.94-2.06-.94-.94-2.06-.94 2.06-2.06.94zm-11 1L8.5 8.5l.94-2.06 2.06-.94-2.06-.94L8.5 2.5l-.94 2.06-2.06.94zm10 10l.94 2.06.94-2.06 2.06-.94-2.06-.94-.94-2.06-.94 2.06-2.06.94z\"/><path d=\"M17.41 7.96l-1.37-1.37c-.4-.4-.92-.59-1.43-.59-.52 0-1.04.2-1.43.59L10.3 9.45l-7.72 7.72c-.78.78-.78 2.05 0 2.83L4 21.41c.39.39.9.59 1.41.59.51 0 1.02-.2 1.41-.59l7.78-7.78 2.81-2.81c.8-.78.8-2.07 0-2.86zM5.41 20L4 18.59l7.72-7.72 1.47 1.35L5.41 20z\"/>\n",
              "  </svg>\n",
              "      </button>\n",
              "      \n",
              "  <style>\n",
              "    .colab-df-container {\n",
              "      display:flex;\n",
              "      flex-wrap:wrap;\n",
              "      gap: 12px;\n",
              "    }\n",
              "\n",
              "    .colab-df-convert {\n",
              "      background-color: #E8F0FE;\n",
              "      border: none;\n",
              "      border-radius: 50%;\n",
              "      cursor: pointer;\n",
              "      display: none;\n",
              "      fill: #1967D2;\n",
              "      height: 32px;\n",
              "      padding: 0 0 0 0;\n",
              "      width: 32px;\n",
              "    }\n",
              "\n",
              "    .colab-df-convert:hover {\n",
              "      background-color: #E2EBFA;\n",
              "      box-shadow: 0px 1px 2px rgba(60, 64, 67, 0.3), 0px 1px 3px 1px rgba(60, 64, 67, 0.15);\n",
              "      fill: #174EA6;\n",
              "    }\n",
              "\n",
              "    [theme=dark] .colab-df-convert {\n",
              "      background-color: #3B4455;\n",
              "      fill: #D2E3FC;\n",
              "    }\n",
              "\n",
              "    [theme=dark] .colab-df-convert:hover {\n",
              "      background-color: #434B5C;\n",
              "      box-shadow: 0px 1px 3px 1px rgba(0, 0, 0, 0.15);\n",
              "      filter: drop-shadow(0px 1px 2px rgba(0, 0, 0, 0.3));\n",
              "      fill: #FFFFFF;\n",
              "    }\n",
              "  </style>\n",
              "\n",
              "      <script>\n",
              "        const buttonEl =\n",
              "          document.querySelector('#df-9a49fffe-2837-44a1-9c80-50df04bcd7c3 button.colab-df-convert');\n",
              "        buttonEl.style.display =\n",
              "          google.colab.kernel.accessAllowed ? 'block' : 'none';\n",
              "\n",
              "        async function convertToInteractive(key) {\n",
              "          const element = document.querySelector('#df-9a49fffe-2837-44a1-9c80-50df04bcd7c3');\n",
              "          const dataTable =\n",
              "            await google.colab.kernel.invokeFunction('convertToInteractive',\n",
              "                                                     [key], {});\n",
              "          if (!dataTable) return;\n",
              "\n",
              "          const docLinkHtml = 'Like what you see? Visit the ' +\n",
              "            '<a target=\"_blank\" href=https://colab.research.google.com/notebooks/data_table.ipynb>data table notebook</a>'\n",
              "            + ' to learn more about interactive tables.';\n",
              "          element.innerHTML = '';\n",
              "          dataTable['output_type'] = 'display_data';\n",
              "          await google.colab.output.renderOutput(dataTable, element);\n",
              "          const docLink = document.createElement('div');\n",
              "          docLink.innerHTML = docLinkHtml;\n",
              "          element.appendChild(docLink);\n",
              "        }\n",
              "      </script>\n",
              "    </div>\n",
              "  </div>\n",
              "  "
            ]
          },
          "metadata": {},
          "execution_count": 48
        }
      ]
    },
    {
      "cell_type": "code",
      "source": [
        "result_dt.to_csv('Hasil_DT.csv', index=False)"
      ],
      "metadata": {
        "id": "dFyZ79fhvhh-"
      },
      "execution_count": null,
      "outputs": []
    },
    {
      "cell_type": "markdown",
      "source": [
        "### KNeighbor Classifier"
      ],
      "metadata": {
        "id": "N3JVTp88zhFa"
      }
    },
    {
      "cell_type": "code",
      "source": [
        "test_knn = knn.predict(X_test)\n",
        "test_knn"
      ],
      "metadata": {
        "colab": {
          "base_uri": "https://localhost:8080/"
        },
        "id": "FwrrzzAvzlmB",
        "outputId": "21ab0d72-1f60-433a-b980-c58c2ede1755"
      },
      "execution_count": null,
      "outputs": [
        {
          "output_type": "execute_result",
          "data": {
            "text/plain": [
              "array([1, 1, 0, ..., 1, 1, 1])"
            ]
          },
          "metadata": {},
          "execution_count": 51
        }
      ]
    },
    {
      "cell_type": "code",
      "source": [
        "result_knn = pd.DataFrame()\n",
        "result_knn['Id'] = X_test.Id_customer.values.astype(int)\n",
        "result_knn['Value'] = test_knn\n",
        "result_knn"
      ],
      "metadata": {
        "colab": {
          "base_uri": "https://localhost:8080/",
          "height": 424
        },
        "id": "EHP-n4C7z1ys",
        "outputId": "d48665f9-bda6-4c95-9d9e-d7c220a752b4"
      },
      "execution_count": null,
      "outputs": [
        {
          "output_type": "execute_result",
          "data": {
            "text/plain": [
              "         Id  Value\n",
              "0     19570      1\n",
              "1      1244      1\n",
              "2      6223      0\n",
              "3     22136      0\n",
              "4     10202      1\n",
              "...     ...    ...\n",
              "9025  12404      1\n",
              "9026   4249      1\n",
              "9027  13774      1\n",
              "9028  12593      1\n",
              "9029  12645      1\n",
              "\n",
              "[9030 rows x 2 columns]"
            ],
            "text/html": [
              "\n",
              "  <div id=\"df-ad46be42-4784-4413-a874-aed8e9918dae\">\n",
              "    <div class=\"colab-df-container\">\n",
              "      <div>\n",
              "<style scoped>\n",
              "    .dataframe tbody tr th:only-of-type {\n",
              "        vertical-align: middle;\n",
              "    }\n",
              "\n",
              "    .dataframe tbody tr th {\n",
              "        vertical-align: top;\n",
              "    }\n",
              "\n",
              "    .dataframe thead th {\n",
              "        text-align: right;\n",
              "    }\n",
              "</style>\n",
              "<table border=\"1\" class=\"dataframe\">\n",
              "  <thead>\n",
              "    <tr style=\"text-align: right;\">\n",
              "      <th></th>\n",
              "      <th>Id</th>\n",
              "      <th>Value</th>\n",
              "    </tr>\n",
              "  </thead>\n",
              "  <tbody>\n",
              "    <tr>\n",
              "      <th>0</th>\n",
              "      <td>19570</td>\n",
              "      <td>1</td>\n",
              "    </tr>\n",
              "    <tr>\n",
              "      <th>1</th>\n",
              "      <td>1244</td>\n",
              "      <td>1</td>\n",
              "    </tr>\n",
              "    <tr>\n",
              "      <th>2</th>\n",
              "      <td>6223</td>\n",
              "      <td>0</td>\n",
              "    </tr>\n",
              "    <tr>\n",
              "      <th>3</th>\n",
              "      <td>22136</td>\n",
              "      <td>0</td>\n",
              "    </tr>\n",
              "    <tr>\n",
              "      <th>4</th>\n",
              "      <td>10202</td>\n",
              "      <td>1</td>\n",
              "    </tr>\n",
              "    <tr>\n",
              "      <th>...</th>\n",
              "      <td>...</td>\n",
              "      <td>...</td>\n",
              "    </tr>\n",
              "    <tr>\n",
              "      <th>9025</th>\n",
              "      <td>12404</td>\n",
              "      <td>1</td>\n",
              "    </tr>\n",
              "    <tr>\n",
              "      <th>9026</th>\n",
              "      <td>4249</td>\n",
              "      <td>1</td>\n",
              "    </tr>\n",
              "    <tr>\n",
              "      <th>9027</th>\n",
              "      <td>13774</td>\n",
              "      <td>1</td>\n",
              "    </tr>\n",
              "    <tr>\n",
              "      <th>9028</th>\n",
              "      <td>12593</td>\n",
              "      <td>1</td>\n",
              "    </tr>\n",
              "    <tr>\n",
              "      <th>9029</th>\n",
              "      <td>12645</td>\n",
              "      <td>1</td>\n",
              "    </tr>\n",
              "  </tbody>\n",
              "</table>\n",
              "<p>9030 rows × 2 columns</p>\n",
              "</div>\n",
              "      <button class=\"colab-df-convert\" onclick=\"convertToInteractive('df-ad46be42-4784-4413-a874-aed8e9918dae')\"\n",
              "              title=\"Convert this dataframe to an interactive table.\"\n",
              "              style=\"display:none;\">\n",
              "        \n",
              "  <svg xmlns=\"http://www.w3.org/2000/svg\" height=\"24px\"viewBox=\"0 0 24 24\"\n",
              "       width=\"24px\">\n",
              "    <path d=\"M0 0h24v24H0V0z\" fill=\"none\"/>\n",
              "    <path d=\"M18.56 5.44l.94 2.06.94-2.06 2.06-.94-2.06-.94-.94-2.06-.94 2.06-2.06.94zm-11 1L8.5 8.5l.94-2.06 2.06-.94-2.06-.94L8.5 2.5l-.94 2.06-2.06.94zm10 10l.94 2.06.94-2.06 2.06-.94-2.06-.94-.94-2.06-.94 2.06-2.06.94z\"/><path d=\"M17.41 7.96l-1.37-1.37c-.4-.4-.92-.59-1.43-.59-.52 0-1.04.2-1.43.59L10.3 9.45l-7.72 7.72c-.78.78-.78 2.05 0 2.83L4 21.41c.39.39.9.59 1.41.59.51 0 1.02-.2 1.41-.59l7.78-7.78 2.81-2.81c.8-.78.8-2.07 0-2.86zM5.41 20L4 18.59l7.72-7.72 1.47 1.35L5.41 20z\"/>\n",
              "  </svg>\n",
              "      </button>\n",
              "      \n",
              "  <style>\n",
              "    .colab-df-container {\n",
              "      display:flex;\n",
              "      flex-wrap:wrap;\n",
              "      gap: 12px;\n",
              "    }\n",
              "\n",
              "    .colab-df-convert {\n",
              "      background-color: #E8F0FE;\n",
              "      border: none;\n",
              "      border-radius: 50%;\n",
              "      cursor: pointer;\n",
              "      display: none;\n",
              "      fill: #1967D2;\n",
              "      height: 32px;\n",
              "      padding: 0 0 0 0;\n",
              "      width: 32px;\n",
              "    }\n",
              "\n",
              "    .colab-df-convert:hover {\n",
              "      background-color: #E2EBFA;\n",
              "      box-shadow: 0px 1px 2px rgba(60, 64, 67, 0.3), 0px 1px 3px 1px rgba(60, 64, 67, 0.15);\n",
              "      fill: #174EA6;\n",
              "    }\n",
              "\n",
              "    [theme=dark] .colab-df-convert {\n",
              "      background-color: #3B4455;\n",
              "      fill: #D2E3FC;\n",
              "    }\n",
              "\n",
              "    [theme=dark] .colab-df-convert:hover {\n",
              "      background-color: #434B5C;\n",
              "      box-shadow: 0px 1px 3px 1px rgba(0, 0, 0, 0.15);\n",
              "      filter: drop-shadow(0px 1px 2px rgba(0, 0, 0, 0.3));\n",
              "      fill: #FFFFFF;\n",
              "    }\n",
              "  </style>\n",
              "\n",
              "      <script>\n",
              "        const buttonEl =\n",
              "          document.querySelector('#df-ad46be42-4784-4413-a874-aed8e9918dae button.colab-df-convert');\n",
              "        buttonEl.style.display =\n",
              "          google.colab.kernel.accessAllowed ? 'block' : 'none';\n",
              "\n",
              "        async function convertToInteractive(key) {\n",
              "          const element = document.querySelector('#df-ad46be42-4784-4413-a874-aed8e9918dae');\n",
              "          const dataTable =\n",
              "            await google.colab.kernel.invokeFunction('convertToInteractive',\n",
              "                                                     [key], {});\n",
              "          if (!dataTable) return;\n",
              "\n",
              "          const docLinkHtml = 'Like what you see? Visit the ' +\n",
              "            '<a target=\"_blank\" href=https://colab.research.google.com/notebooks/data_table.ipynb>data table notebook</a>'\n",
              "            + ' to learn more about interactive tables.';\n",
              "          element.innerHTML = '';\n",
              "          dataTable['output_type'] = 'display_data';\n",
              "          await google.colab.output.renderOutput(dataTable, element);\n",
              "          const docLink = document.createElement('div');\n",
              "          docLink.innerHTML = docLinkHtml;\n",
              "          element.appendChild(docLink);\n",
              "        }\n",
              "      </script>\n",
              "    </div>\n",
              "  </div>\n",
              "  "
            ]
          },
          "metadata": {},
          "execution_count": 52
        }
      ]
    },
    {
      "cell_type": "code",
      "source": [
        "result_knn.to_csv('Hasil_KNN.csv', index=False)"
      ],
      "metadata": {
        "id": "VXWWds6Rz_cK"
      },
      "execution_count": null,
      "outputs": []
    },
    {
      "cell_type": "markdown",
      "source": [
        "### XGBClassifier"
      ],
      "metadata": {
        "id": "MkUAKR1Y0Ikm"
      }
    },
    {
      "cell_type": "code",
      "source": [
        "test_xgb = xgb.predict(X_test)\n",
        "test_xgb"
      ],
      "metadata": {
        "colab": {
          "base_uri": "https://localhost:8080/"
        },
        "id": "H693eyH00L6C",
        "outputId": "3f901c29-6664-4235-ca1e-9bb03a950aef"
      },
      "execution_count": null,
      "outputs": [
        {
          "output_type": "execute_result",
          "data": {
            "text/plain": [
              "array([0, 0, 0, ..., 1, 1, 1])"
            ]
          },
          "metadata": {},
          "execution_count": 54
        }
      ]
    },
    {
      "cell_type": "code",
      "source": [
        "result_xgb = pd.DataFrame()\n",
        "result_xgb['Id'] = X_test.Id_customer.values.astype(int)\n",
        "result_xgb['Value'] = test_xgb\n",
        "result_xgb"
      ],
      "metadata": {
        "colab": {
          "base_uri": "https://localhost:8080/",
          "height": 424
        },
        "id": "XImw_awC0UX0",
        "outputId": "c17509cb-596c-4806-cbd8-e2ab04135ed1"
      },
      "execution_count": null,
      "outputs": [
        {
          "output_type": "execute_result",
          "data": {
            "text/plain": [
              "         Id  Value\n",
              "0     19570      0\n",
              "1      1244      0\n",
              "2      6223      0\n",
              "3     22136      0\n",
              "4     10202      0\n",
              "...     ...    ...\n",
              "9025  12404      1\n",
              "9026   4249      0\n",
              "9027  13774      1\n",
              "9028  12593      1\n",
              "9029  12645      1\n",
              "\n",
              "[9030 rows x 2 columns]"
            ],
            "text/html": [
              "\n",
              "  <div id=\"df-3479e78b-67d7-48c3-a0a3-ef46f6e4493c\">\n",
              "    <div class=\"colab-df-container\">\n",
              "      <div>\n",
              "<style scoped>\n",
              "    .dataframe tbody tr th:only-of-type {\n",
              "        vertical-align: middle;\n",
              "    }\n",
              "\n",
              "    .dataframe tbody tr th {\n",
              "        vertical-align: top;\n",
              "    }\n",
              "\n",
              "    .dataframe thead th {\n",
              "        text-align: right;\n",
              "    }\n",
              "</style>\n",
              "<table border=\"1\" class=\"dataframe\">\n",
              "  <thead>\n",
              "    <tr style=\"text-align: right;\">\n",
              "      <th></th>\n",
              "      <th>Id</th>\n",
              "      <th>Value</th>\n",
              "    </tr>\n",
              "  </thead>\n",
              "  <tbody>\n",
              "    <tr>\n",
              "      <th>0</th>\n",
              "      <td>19570</td>\n",
              "      <td>0</td>\n",
              "    </tr>\n",
              "    <tr>\n",
              "      <th>1</th>\n",
              "      <td>1244</td>\n",
              "      <td>0</td>\n",
              "    </tr>\n",
              "    <tr>\n",
              "      <th>2</th>\n",
              "      <td>6223</td>\n",
              "      <td>0</td>\n",
              "    </tr>\n",
              "    <tr>\n",
              "      <th>3</th>\n",
              "      <td>22136</td>\n",
              "      <td>0</td>\n",
              "    </tr>\n",
              "    <tr>\n",
              "      <th>4</th>\n",
              "      <td>10202</td>\n",
              "      <td>0</td>\n",
              "    </tr>\n",
              "    <tr>\n",
              "      <th>...</th>\n",
              "      <td>...</td>\n",
              "      <td>...</td>\n",
              "    </tr>\n",
              "    <tr>\n",
              "      <th>9025</th>\n",
              "      <td>12404</td>\n",
              "      <td>1</td>\n",
              "    </tr>\n",
              "    <tr>\n",
              "      <th>9026</th>\n",
              "      <td>4249</td>\n",
              "      <td>0</td>\n",
              "    </tr>\n",
              "    <tr>\n",
              "      <th>9027</th>\n",
              "      <td>13774</td>\n",
              "      <td>1</td>\n",
              "    </tr>\n",
              "    <tr>\n",
              "      <th>9028</th>\n",
              "      <td>12593</td>\n",
              "      <td>1</td>\n",
              "    </tr>\n",
              "    <tr>\n",
              "      <th>9029</th>\n",
              "      <td>12645</td>\n",
              "      <td>1</td>\n",
              "    </tr>\n",
              "  </tbody>\n",
              "</table>\n",
              "<p>9030 rows × 2 columns</p>\n",
              "</div>\n",
              "      <button class=\"colab-df-convert\" onclick=\"convertToInteractive('df-3479e78b-67d7-48c3-a0a3-ef46f6e4493c')\"\n",
              "              title=\"Convert this dataframe to an interactive table.\"\n",
              "              style=\"display:none;\">\n",
              "        \n",
              "  <svg xmlns=\"http://www.w3.org/2000/svg\" height=\"24px\"viewBox=\"0 0 24 24\"\n",
              "       width=\"24px\">\n",
              "    <path d=\"M0 0h24v24H0V0z\" fill=\"none\"/>\n",
              "    <path d=\"M18.56 5.44l.94 2.06.94-2.06 2.06-.94-2.06-.94-.94-2.06-.94 2.06-2.06.94zm-11 1L8.5 8.5l.94-2.06 2.06-.94-2.06-.94L8.5 2.5l-.94 2.06-2.06.94zm10 10l.94 2.06.94-2.06 2.06-.94-2.06-.94-.94-2.06-.94 2.06-2.06.94z\"/><path d=\"M17.41 7.96l-1.37-1.37c-.4-.4-.92-.59-1.43-.59-.52 0-1.04.2-1.43.59L10.3 9.45l-7.72 7.72c-.78.78-.78 2.05 0 2.83L4 21.41c.39.39.9.59 1.41.59.51 0 1.02-.2 1.41-.59l7.78-7.78 2.81-2.81c.8-.78.8-2.07 0-2.86zM5.41 20L4 18.59l7.72-7.72 1.47 1.35L5.41 20z\"/>\n",
              "  </svg>\n",
              "      </button>\n",
              "      \n",
              "  <style>\n",
              "    .colab-df-container {\n",
              "      display:flex;\n",
              "      flex-wrap:wrap;\n",
              "      gap: 12px;\n",
              "    }\n",
              "\n",
              "    .colab-df-convert {\n",
              "      background-color: #E8F0FE;\n",
              "      border: none;\n",
              "      border-radius: 50%;\n",
              "      cursor: pointer;\n",
              "      display: none;\n",
              "      fill: #1967D2;\n",
              "      height: 32px;\n",
              "      padding: 0 0 0 0;\n",
              "      width: 32px;\n",
              "    }\n",
              "\n",
              "    .colab-df-convert:hover {\n",
              "      background-color: #E2EBFA;\n",
              "      box-shadow: 0px 1px 2px rgba(60, 64, 67, 0.3), 0px 1px 3px 1px rgba(60, 64, 67, 0.15);\n",
              "      fill: #174EA6;\n",
              "    }\n",
              "\n",
              "    [theme=dark] .colab-df-convert {\n",
              "      background-color: #3B4455;\n",
              "      fill: #D2E3FC;\n",
              "    }\n",
              "\n",
              "    [theme=dark] .colab-df-convert:hover {\n",
              "      background-color: #434B5C;\n",
              "      box-shadow: 0px 1px 3px 1px rgba(0, 0, 0, 0.15);\n",
              "      filter: drop-shadow(0px 1px 2px rgba(0, 0, 0, 0.3));\n",
              "      fill: #FFFFFF;\n",
              "    }\n",
              "  </style>\n",
              "\n",
              "      <script>\n",
              "        const buttonEl =\n",
              "          document.querySelector('#df-3479e78b-67d7-48c3-a0a3-ef46f6e4493c button.colab-df-convert');\n",
              "        buttonEl.style.display =\n",
              "          google.colab.kernel.accessAllowed ? 'block' : 'none';\n",
              "\n",
              "        async function convertToInteractive(key) {\n",
              "          const element = document.querySelector('#df-3479e78b-67d7-48c3-a0a3-ef46f6e4493c');\n",
              "          const dataTable =\n",
              "            await google.colab.kernel.invokeFunction('convertToInteractive',\n",
              "                                                     [key], {});\n",
              "          if (!dataTable) return;\n",
              "\n",
              "          const docLinkHtml = 'Like what you see? Visit the ' +\n",
              "            '<a target=\"_blank\" href=https://colab.research.google.com/notebooks/data_table.ipynb>data table notebook</a>'\n",
              "            + ' to learn more about interactive tables.';\n",
              "          element.innerHTML = '';\n",
              "          dataTable['output_type'] = 'display_data';\n",
              "          await google.colab.output.renderOutput(dataTable, element);\n",
              "          const docLink = document.createElement('div');\n",
              "          docLink.innerHTML = docLinkHtml;\n",
              "          element.appendChild(docLink);\n",
              "        }\n",
              "      </script>\n",
              "    </div>\n",
              "  </div>\n",
              "  "
            ]
          },
          "metadata": {},
          "execution_count": 55
        }
      ]
    },
    {
      "cell_type": "code",
      "source": [
        "result_xgb.to_csv('Hasil_XGB.csv', index=False)"
      ],
      "metadata": {
        "id": "ccsEt0z60dNc"
      },
      "execution_count": null,
      "outputs": []
    }
  ]
}