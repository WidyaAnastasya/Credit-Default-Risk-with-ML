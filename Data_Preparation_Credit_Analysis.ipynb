{
  "nbformat": 4,
  "nbformat_minor": 0,
  "metadata": {
    "colab": {
      "provenance": [],
      "collapsed_sections": [
        "8s4pxmUg4QVD",
        "93ecFfei4doe",
        "xafIr3IBRhoM",
        "VhX--aZ6Xgff"
      ]
    },
    "kernelspec": {
      "name": "python3",
      "display_name": "Python 3"
    },
    "language_info": {
      "name": "python"
    }
  },
  "cells": [
    {
      "cell_type": "markdown",
      "source": [
        "Widya Anastasya | anastasyawidya14@gmail.com"
      ],
      "metadata": {
        "id": "qviuasDXksu-"
      }
    },
    {
      "cell_type": "markdown",
      "source": [
        "# DATA PREPARATION"
      ],
      "metadata": {
        "id": "GlQa8LOEt2UJ"
      }
    },
    {
      "cell_type": "code",
      "execution_count": null,
      "metadata": {
        "id": "OeNg7_XmtNUn"
      },
      "outputs": [],
      "source": [
        "import pandas as pd\n",
        "import seaborn as sns\n",
        "import numpy as np\n",
        "import matplotlib.pyplot as plt"
      ]
    },
    {
      "cell_type": "markdown",
      "source": [
        "## Load Data"
      ],
      "metadata": {
        "id": "8s4pxmUg4QVD"
      }
    },
    {
      "cell_type": "markdown",
      "source": [
        "Data:\n",
        "1. application_history_f\n",
        "2. application_history_m\n",
        "3. credit_history"
      ],
      "metadata": {
        "id": "Tn6YYEaJuUQ4"
      }
    },
    {
      "cell_type": "code",
      "source": [
        "#Mount Drive\n",
        "from google.colab import drive\n",
        "drive.mount('/content/drive')"
      ],
      "metadata": {
        "id": "gQomnWPsuNYC",
        "colab": {
          "base_uri": "https://localhost:8080/"
        },
        "outputId": "c482bc7e-1439-4cfa-8b88-56727dfb5deb"
      },
      "execution_count": null,
      "outputs": [
        {
          "output_type": "stream",
          "name": "stdout",
          "text": [
            "Drive already mounted at /content/drive; to attempt to forcibly remount, call drive.mount(\"/content/drive\", force_remount=True).\n"
          ]
        }
      ]
    },
    {
      "cell_type": "code",
      "source": [
        "#Import data from Google drive (application_history_f)\n",
        "female = pd.read_csv('/content/drive/My Drive/Project/Studi_Independen/application_history_f.csv')\n",
        "female.head(5)"
      ],
      "metadata": {
        "id": "x2frVbW0vB-V",
        "colab": {
          "base_uri": "https://localhost:8080/",
          "height": 270
        },
        "outputId": "ea43929a-f951-4883-c0f6-abdc70b4f1d7"
      },
      "execution_count": null,
      "outputs": [
        {
          "output_type": "execute_result",
          "data": {
            "text/plain": [
              "   Id_customer         JK KepemilikanMobil KepemilikanProperti  JmlAnak  \\\n",
              "0      5008808  Perempuan            Tidak                  Ya        0   \n",
              "1      5008809  Perempuan            Tidak                  Ya        0   \n",
              "2      5008810  Perempuan            Tidak                  Ya        0   \n",
              "3      5008811  Perempuan            Tidak                  Ya        0   \n",
              "4      5008812  Perempuan            Tidak                  Ya        0   \n",
              "\n",
              "   Pendapatan      TipePendapatan TingkatPendidikan StatusKeluarga TipeRumah  \\\n",
              "0    270000.0  Asosiasi komersial                 G             NM        MH   \n",
              "1    270000.0  Asosiasi komersial                 G             NM        MH   \n",
              "2    270000.0  Asosiasi komersial                 G             NM        MH   \n",
              "3    270000.0  Asosiasi komersial                 G             NM        MH   \n",
              "4    283500.0           Pensioner                PG              D        MH   \n",
              "\n",
              "   FlagMobile  FlagWorkPhone  FlagPhone  Email    Pekerjaan  \\\n",
              "0           1              0          1      1  Sales staff   \n",
              "1           1              0          1      1  Sales staff   \n",
              "2           1              0          1      1  Sales staff   \n",
              "3           1              0          1      1  Sales staff   \n",
              "4           1              0          0      0          NaN   \n",
              "\n",
              "   JmlAnggotaKeluarga  Age  Experience  \n",
              "0                   1   52           8  \n",
              "1                   1   52           8  \n",
              "2                   1   52           8  \n",
              "3                   1   52           8  \n",
              "4                   1   62        1001  "
            ],
            "text/html": [
              "\n",
              "  <div id=\"df-e41c7d1f-f793-4b77-80b2-801bcc5a311c\">\n",
              "    <div class=\"colab-df-container\">\n",
              "      <div>\n",
              "<style scoped>\n",
              "    .dataframe tbody tr th:only-of-type {\n",
              "        vertical-align: middle;\n",
              "    }\n",
              "\n",
              "    .dataframe tbody tr th {\n",
              "        vertical-align: top;\n",
              "    }\n",
              "\n",
              "    .dataframe thead th {\n",
              "        text-align: right;\n",
              "    }\n",
              "</style>\n",
              "<table border=\"1\" class=\"dataframe\">\n",
              "  <thead>\n",
              "    <tr style=\"text-align: right;\">\n",
              "      <th></th>\n",
              "      <th>Id_customer</th>\n",
              "      <th>JK</th>\n",
              "      <th>KepemilikanMobil</th>\n",
              "      <th>KepemilikanProperti</th>\n",
              "      <th>JmlAnak</th>\n",
              "      <th>Pendapatan</th>\n",
              "      <th>TipePendapatan</th>\n",
              "      <th>TingkatPendidikan</th>\n",
              "      <th>StatusKeluarga</th>\n",
              "      <th>TipeRumah</th>\n",
              "      <th>FlagMobile</th>\n",
              "      <th>FlagWorkPhone</th>\n",
              "      <th>FlagPhone</th>\n",
              "      <th>Email</th>\n",
              "      <th>Pekerjaan</th>\n",
              "      <th>JmlAnggotaKeluarga</th>\n",
              "      <th>Age</th>\n",
              "      <th>Experience</th>\n",
              "    </tr>\n",
              "  </thead>\n",
              "  <tbody>\n",
              "    <tr>\n",
              "      <th>0</th>\n",
              "      <td>5008808</td>\n",
              "      <td>Perempuan</td>\n",
              "      <td>Tidak</td>\n",
              "      <td>Ya</td>\n",
              "      <td>0</td>\n",
              "      <td>270000.0</td>\n",
              "      <td>Asosiasi komersial</td>\n",
              "      <td>G</td>\n",
              "      <td>NM</td>\n",
              "      <td>MH</td>\n",
              "      <td>1</td>\n",
              "      <td>0</td>\n",
              "      <td>1</td>\n",
              "      <td>1</td>\n",
              "      <td>Sales staff</td>\n",
              "      <td>1</td>\n",
              "      <td>52</td>\n",
              "      <td>8</td>\n",
              "    </tr>\n",
              "    <tr>\n",
              "      <th>1</th>\n",
              "      <td>5008809</td>\n",
              "      <td>Perempuan</td>\n",
              "      <td>Tidak</td>\n",
              "      <td>Ya</td>\n",
              "      <td>0</td>\n",
              "      <td>270000.0</td>\n",
              "      <td>Asosiasi komersial</td>\n",
              "      <td>G</td>\n",
              "      <td>NM</td>\n",
              "      <td>MH</td>\n",
              "      <td>1</td>\n",
              "      <td>0</td>\n",
              "      <td>1</td>\n",
              "      <td>1</td>\n",
              "      <td>Sales staff</td>\n",
              "      <td>1</td>\n",
              "      <td>52</td>\n",
              "      <td>8</td>\n",
              "    </tr>\n",
              "    <tr>\n",
              "      <th>2</th>\n",
              "      <td>5008810</td>\n",
              "      <td>Perempuan</td>\n",
              "      <td>Tidak</td>\n",
              "      <td>Ya</td>\n",
              "      <td>0</td>\n",
              "      <td>270000.0</td>\n",
              "      <td>Asosiasi komersial</td>\n",
              "      <td>G</td>\n",
              "      <td>NM</td>\n",
              "      <td>MH</td>\n",
              "      <td>1</td>\n",
              "      <td>0</td>\n",
              "      <td>1</td>\n",
              "      <td>1</td>\n",
              "      <td>Sales staff</td>\n",
              "      <td>1</td>\n",
              "      <td>52</td>\n",
              "      <td>8</td>\n",
              "    </tr>\n",
              "    <tr>\n",
              "      <th>3</th>\n",
              "      <td>5008811</td>\n",
              "      <td>Perempuan</td>\n",
              "      <td>Tidak</td>\n",
              "      <td>Ya</td>\n",
              "      <td>0</td>\n",
              "      <td>270000.0</td>\n",
              "      <td>Asosiasi komersial</td>\n",
              "      <td>G</td>\n",
              "      <td>NM</td>\n",
              "      <td>MH</td>\n",
              "      <td>1</td>\n",
              "      <td>0</td>\n",
              "      <td>1</td>\n",
              "      <td>1</td>\n",
              "      <td>Sales staff</td>\n",
              "      <td>1</td>\n",
              "      <td>52</td>\n",
              "      <td>8</td>\n",
              "    </tr>\n",
              "    <tr>\n",
              "      <th>4</th>\n",
              "      <td>5008812</td>\n",
              "      <td>Perempuan</td>\n",
              "      <td>Tidak</td>\n",
              "      <td>Ya</td>\n",
              "      <td>0</td>\n",
              "      <td>283500.0</td>\n",
              "      <td>Pensioner</td>\n",
              "      <td>PG</td>\n",
              "      <td>D</td>\n",
              "      <td>MH</td>\n",
              "      <td>1</td>\n",
              "      <td>0</td>\n",
              "      <td>0</td>\n",
              "      <td>0</td>\n",
              "      <td>NaN</td>\n",
              "      <td>1</td>\n",
              "      <td>62</td>\n",
              "      <td>1001</td>\n",
              "    </tr>\n",
              "  </tbody>\n",
              "</table>\n",
              "</div>\n",
              "      <button class=\"colab-df-convert\" onclick=\"convertToInteractive('df-e41c7d1f-f793-4b77-80b2-801bcc5a311c')\"\n",
              "              title=\"Convert this dataframe to an interactive table.\"\n",
              "              style=\"display:none;\">\n",
              "        \n",
              "  <svg xmlns=\"http://www.w3.org/2000/svg\" height=\"24px\"viewBox=\"0 0 24 24\"\n",
              "       width=\"24px\">\n",
              "    <path d=\"M0 0h24v24H0V0z\" fill=\"none\"/>\n",
              "    <path d=\"M18.56 5.44l.94 2.06.94-2.06 2.06-.94-2.06-.94-.94-2.06-.94 2.06-2.06.94zm-11 1L8.5 8.5l.94-2.06 2.06-.94-2.06-.94L8.5 2.5l-.94 2.06-2.06.94zm10 10l.94 2.06.94-2.06 2.06-.94-2.06-.94-.94-2.06-.94 2.06-2.06.94z\"/><path d=\"M17.41 7.96l-1.37-1.37c-.4-.4-.92-.59-1.43-.59-.52 0-1.04.2-1.43.59L10.3 9.45l-7.72 7.72c-.78.78-.78 2.05 0 2.83L4 21.41c.39.39.9.59 1.41.59.51 0 1.02-.2 1.41-.59l7.78-7.78 2.81-2.81c.8-.78.8-2.07 0-2.86zM5.41 20L4 18.59l7.72-7.72 1.47 1.35L5.41 20z\"/>\n",
              "  </svg>\n",
              "      </button>\n",
              "      \n",
              "  <style>\n",
              "    .colab-df-container {\n",
              "      display:flex;\n",
              "      flex-wrap:wrap;\n",
              "      gap: 12px;\n",
              "    }\n",
              "\n",
              "    .colab-df-convert {\n",
              "      background-color: #E8F0FE;\n",
              "      border: none;\n",
              "      border-radius: 50%;\n",
              "      cursor: pointer;\n",
              "      display: none;\n",
              "      fill: #1967D2;\n",
              "      height: 32px;\n",
              "      padding: 0 0 0 0;\n",
              "      width: 32px;\n",
              "    }\n",
              "\n",
              "    .colab-df-convert:hover {\n",
              "      background-color: #E2EBFA;\n",
              "      box-shadow: 0px 1px 2px rgba(60, 64, 67, 0.3), 0px 1px 3px 1px rgba(60, 64, 67, 0.15);\n",
              "      fill: #174EA6;\n",
              "    }\n",
              "\n",
              "    [theme=dark] .colab-df-convert {\n",
              "      background-color: #3B4455;\n",
              "      fill: #D2E3FC;\n",
              "    }\n",
              "\n",
              "    [theme=dark] .colab-df-convert:hover {\n",
              "      background-color: #434B5C;\n",
              "      box-shadow: 0px 1px 3px 1px rgba(0, 0, 0, 0.15);\n",
              "      filter: drop-shadow(0px 1px 2px rgba(0, 0, 0, 0.3));\n",
              "      fill: #FFFFFF;\n",
              "    }\n",
              "  </style>\n",
              "\n",
              "      <script>\n",
              "        const buttonEl =\n",
              "          document.querySelector('#df-e41c7d1f-f793-4b77-80b2-801bcc5a311c button.colab-df-convert');\n",
              "        buttonEl.style.display =\n",
              "          google.colab.kernel.accessAllowed ? 'block' : 'none';\n",
              "\n",
              "        async function convertToInteractive(key) {\n",
              "          const element = document.querySelector('#df-e41c7d1f-f793-4b77-80b2-801bcc5a311c');\n",
              "          const dataTable =\n",
              "            await google.colab.kernel.invokeFunction('convertToInteractive',\n",
              "                                                     [key], {});\n",
              "          if (!dataTable) return;\n",
              "\n",
              "          const docLinkHtml = 'Like what you see? Visit the ' +\n",
              "            '<a target=\"_blank\" href=https://colab.research.google.com/notebooks/data_table.ipynb>data table notebook</a>'\n",
              "            + ' to learn more about interactive tables.';\n",
              "          element.innerHTML = '';\n",
              "          dataTable['output_type'] = 'display_data';\n",
              "          await google.colab.output.renderOutput(dataTable, element);\n",
              "          const docLink = document.createElement('div');\n",
              "          docLink.innerHTML = docLinkHtml;\n",
              "          element.appendChild(docLink);\n",
              "        }\n",
              "      </script>\n",
              "    </div>\n",
              "  </div>\n",
              "  "
            ]
          },
          "metadata": {},
          "execution_count": 3
        }
      ]
    },
    {
      "cell_type": "code",
      "source": [
        "#Import data from Google drive (application_history_m)\n",
        "male = pd.read_csv('/content/drive/My Drive/Project/Studi_Independen/application_history_m.csv')\n",
        "male.head(5)"
      ],
      "metadata": {
        "id": "pR1VYmF23-7V",
        "colab": {
          "base_uri": "https://localhost:8080/",
          "height": 357
        },
        "outputId": "77c00140-e32a-4d13-9be6-72aee334fbf7"
      },
      "execution_count": null,
      "outputs": [
        {
          "output_type": "execute_result",
          "data": {
            "text/plain": [
              "   Id_customer         JK KepemilikanMobil KepemilikanProperti  JmlAnak  \\\n",
              "0      5008804  Laki-laki               Ya                  Ya        0   \n",
              "1      5008805  Laki-laki               Ya                  Ya        0   \n",
              "2      5008806  Laki-laki               Ya                  Ya        0   \n",
              "3      5008815  Laki-laki               Ya                  Ya        0   \n",
              "4      5112956  Laki-laki               Ya                  Ya        0   \n",
              "\n",
              "   Pendapatan TipePendapatan TingkatPendidikan StatusKeluarga TipeRumah  \\\n",
              "0    427500.0        Bekerja                PG              M        RA   \n",
              "1    427500.0        Bekerja                PG              M        RA   \n",
              "2    112500.0        Bekerja                 G              M        MH   \n",
              "3    270000.0        Bekerja                PG              M        MH   \n",
              "4    270000.0        Bekerja                PG              M        MH   \n",
              "\n",
              "   FlagMobile  FlagWorkPhone  FlagPhone  Email       Pekerjaan  \\\n",
              "0           1              1          0      0             NaN   \n",
              "1           1              1          0      0             NaN   \n",
              "2           1              0          0      0  Security staff   \n",
              "3           1              1          1      1     Accountants   \n",
              "4           1              1          1      1     Accountants   \n",
              "\n",
              "   JmlAnggotaKeluarga  Age  Experience  \n",
              "0                   2   33          12  \n",
              "1                   2   33          12  \n",
              "2                   2   59           3  \n",
              "3                   2   46           2  \n",
              "4                   2   46           2  "
            ],
            "text/html": [
              "\n",
              "  <div id=\"df-85fd1ad4-3df1-469b-9181-e997bd88b784\">\n",
              "    <div class=\"colab-df-container\">\n",
              "      <div>\n",
              "<style scoped>\n",
              "    .dataframe tbody tr th:only-of-type {\n",
              "        vertical-align: middle;\n",
              "    }\n",
              "\n",
              "    .dataframe tbody tr th {\n",
              "        vertical-align: top;\n",
              "    }\n",
              "\n",
              "    .dataframe thead th {\n",
              "        text-align: right;\n",
              "    }\n",
              "</style>\n",
              "<table border=\"1\" class=\"dataframe\">\n",
              "  <thead>\n",
              "    <tr style=\"text-align: right;\">\n",
              "      <th></th>\n",
              "      <th>Id_customer</th>\n",
              "      <th>JK</th>\n",
              "      <th>KepemilikanMobil</th>\n",
              "      <th>KepemilikanProperti</th>\n",
              "      <th>JmlAnak</th>\n",
              "      <th>Pendapatan</th>\n",
              "      <th>TipePendapatan</th>\n",
              "      <th>TingkatPendidikan</th>\n",
              "      <th>StatusKeluarga</th>\n",
              "      <th>TipeRumah</th>\n",
              "      <th>FlagMobile</th>\n",
              "      <th>FlagWorkPhone</th>\n",
              "      <th>FlagPhone</th>\n",
              "      <th>Email</th>\n",
              "      <th>Pekerjaan</th>\n",
              "      <th>JmlAnggotaKeluarga</th>\n",
              "      <th>Age</th>\n",
              "      <th>Experience</th>\n",
              "    </tr>\n",
              "  </thead>\n",
              "  <tbody>\n",
              "    <tr>\n",
              "      <th>0</th>\n",
              "      <td>5008804</td>\n",
              "      <td>Laki-laki</td>\n",
              "      <td>Ya</td>\n",
              "      <td>Ya</td>\n",
              "      <td>0</td>\n",
              "      <td>427500.0</td>\n",
              "      <td>Bekerja</td>\n",
              "      <td>PG</td>\n",
              "      <td>M</td>\n",
              "      <td>RA</td>\n",
              "      <td>1</td>\n",
              "      <td>1</td>\n",
              "      <td>0</td>\n",
              "      <td>0</td>\n",
              "      <td>NaN</td>\n",
              "      <td>2</td>\n",
              "      <td>33</td>\n",
              "      <td>12</td>\n",
              "    </tr>\n",
              "    <tr>\n",
              "      <th>1</th>\n",
              "      <td>5008805</td>\n",
              "      <td>Laki-laki</td>\n",
              "      <td>Ya</td>\n",
              "      <td>Ya</td>\n",
              "      <td>0</td>\n",
              "      <td>427500.0</td>\n",
              "      <td>Bekerja</td>\n",
              "      <td>PG</td>\n",
              "      <td>M</td>\n",
              "      <td>RA</td>\n",
              "      <td>1</td>\n",
              "      <td>1</td>\n",
              "      <td>0</td>\n",
              "      <td>0</td>\n",
              "      <td>NaN</td>\n",
              "      <td>2</td>\n",
              "      <td>33</td>\n",
              "      <td>12</td>\n",
              "    </tr>\n",
              "    <tr>\n",
              "      <th>2</th>\n",
              "      <td>5008806</td>\n",
              "      <td>Laki-laki</td>\n",
              "      <td>Ya</td>\n",
              "      <td>Ya</td>\n",
              "      <td>0</td>\n",
              "      <td>112500.0</td>\n",
              "      <td>Bekerja</td>\n",
              "      <td>G</td>\n",
              "      <td>M</td>\n",
              "      <td>MH</td>\n",
              "      <td>1</td>\n",
              "      <td>0</td>\n",
              "      <td>0</td>\n",
              "      <td>0</td>\n",
              "      <td>Security staff</td>\n",
              "      <td>2</td>\n",
              "      <td>59</td>\n",
              "      <td>3</td>\n",
              "    </tr>\n",
              "    <tr>\n",
              "      <th>3</th>\n",
              "      <td>5008815</td>\n",
              "      <td>Laki-laki</td>\n",
              "      <td>Ya</td>\n",
              "      <td>Ya</td>\n",
              "      <td>0</td>\n",
              "      <td>270000.0</td>\n",
              "      <td>Bekerja</td>\n",
              "      <td>PG</td>\n",
              "      <td>M</td>\n",
              "      <td>MH</td>\n",
              "      <td>1</td>\n",
              "      <td>1</td>\n",
              "      <td>1</td>\n",
              "      <td>1</td>\n",
              "      <td>Accountants</td>\n",
              "      <td>2</td>\n",
              "      <td>46</td>\n",
              "      <td>2</td>\n",
              "    </tr>\n",
              "    <tr>\n",
              "      <th>4</th>\n",
              "      <td>5112956</td>\n",
              "      <td>Laki-laki</td>\n",
              "      <td>Ya</td>\n",
              "      <td>Ya</td>\n",
              "      <td>0</td>\n",
              "      <td>270000.0</td>\n",
              "      <td>Bekerja</td>\n",
              "      <td>PG</td>\n",
              "      <td>M</td>\n",
              "      <td>MH</td>\n",
              "      <td>1</td>\n",
              "      <td>1</td>\n",
              "      <td>1</td>\n",
              "      <td>1</td>\n",
              "      <td>Accountants</td>\n",
              "      <td>2</td>\n",
              "      <td>46</td>\n",
              "      <td>2</td>\n",
              "    </tr>\n",
              "  </tbody>\n",
              "</table>\n",
              "</div>\n",
              "      <button class=\"colab-df-convert\" onclick=\"convertToInteractive('df-85fd1ad4-3df1-469b-9181-e997bd88b784')\"\n",
              "              title=\"Convert this dataframe to an interactive table.\"\n",
              "              style=\"display:none;\">\n",
              "        \n",
              "  <svg xmlns=\"http://www.w3.org/2000/svg\" height=\"24px\"viewBox=\"0 0 24 24\"\n",
              "       width=\"24px\">\n",
              "    <path d=\"M0 0h24v24H0V0z\" fill=\"none\"/>\n",
              "    <path d=\"M18.56 5.44l.94 2.06.94-2.06 2.06-.94-2.06-.94-.94-2.06-.94 2.06-2.06.94zm-11 1L8.5 8.5l.94-2.06 2.06-.94-2.06-.94L8.5 2.5l-.94 2.06-2.06.94zm10 10l.94 2.06.94-2.06 2.06-.94-2.06-.94-.94-2.06-.94 2.06-2.06.94z\"/><path d=\"M17.41 7.96l-1.37-1.37c-.4-.4-.92-.59-1.43-.59-.52 0-1.04.2-1.43.59L10.3 9.45l-7.72 7.72c-.78.78-.78 2.05 0 2.83L4 21.41c.39.39.9.59 1.41.59.51 0 1.02-.2 1.41-.59l7.78-7.78 2.81-2.81c.8-.78.8-2.07 0-2.86zM5.41 20L4 18.59l7.72-7.72 1.47 1.35L5.41 20z\"/>\n",
              "  </svg>\n",
              "      </button>\n",
              "      \n",
              "  <style>\n",
              "    .colab-df-container {\n",
              "      display:flex;\n",
              "      flex-wrap:wrap;\n",
              "      gap: 12px;\n",
              "    }\n",
              "\n",
              "    .colab-df-convert {\n",
              "      background-color: #E8F0FE;\n",
              "      border: none;\n",
              "      border-radius: 50%;\n",
              "      cursor: pointer;\n",
              "      display: none;\n",
              "      fill: #1967D2;\n",
              "      height: 32px;\n",
              "      padding: 0 0 0 0;\n",
              "      width: 32px;\n",
              "    }\n",
              "\n",
              "    .colab-df-convert:hover {\n",
              "      background-color: #E2EBFA;\n",
              "      box-shadow: 0px 1px 2px rgba(60, 64, 67, 0.3), 0px 1px 3px 1px rgba(60, 64, 67, 0.15);\n",
              "      fill: #174EA6;\n",
              "    }\n",
              "\n",
              "    [theme=dark] .colab-df-convert {\n",
              "      background-color: #3B4455;\n",
              "      fill: #D2E3FC;\n",
              "    }\n",
              "\n",
              "    [theme=dark] .colab-df-convert:hover {\n",
              "      background-color: #434B5C;\n",
              "      box-shadow: 0px 1px 3px 1px rgba(0, 0, 0, 0.15);\n",
              "      filter: drop-shadow(0px 1px 2px rgba(0, 0, 0, 0.3));\n",
              "      fill: #FFFFFF;\n",
              "    }\n",
              "  </style>\n",
              "\n",
              "      <script>\n",
              "        const buttonEl =\n",
              "          document.querySelector('#df-85fd1ad4-3df1-469b-9181-e997bd88b784 button.colab-df-convert');\n",
              "        buttonEl.style.display =\n",
              "          google.colab.kernel.accessAllowed ? 'block' : 'none';\n",
              "\n",
              "        async function convertToInteractive(key) {\n",
              "          const element = document.querySelector('#df-85fd1ad4-3df1-469b-9181-e997bd88b784');\n",
              "          const dataTable =\n",
              "            await google.colab.kernel.invokeFunction('convertToInteractive',\n",
              "                                                     [key], {});\n",
              "          if (!dataTable) return;\n",
              "\n",
              "          const docLinkHtml = 'Like what you see? Visit the ' +\n",
              "            '<a target=\"_blank\" href=https://colab.research.google.com/notebooks/data_table.ipynb>data table notebook</a>'\n",
              "            + ' to learn more about interactive tables.';\n",
              "          element.innerHTML = '';\n",
              "          dataTable['output_type'] = 'display_data';\n",
              "          await google.colab.output.renderOutput(dataTable, element);\n",
              "          const docLink = document.createElement('div');\n",
              "          docLink.innerHTML = docLinkHtml;\n",
              "          element.appendChild(docLink);\n",
              "        }\n",
              "      </script>\n",
              "    </div>\n",
              "  </div>\n",
              "  "
            ]
          },
          "metadata": {},
          "execution_count": 4
        }
      ]
    },
    {
      "cell_type": "code",
      "source": [
        "#Import data from Google drive (application_history_f)\n",
        "credit = pd.read_csv('/content/drive/My Drive/Project/Studi_Independen/credit_history.csv')\n",
        "credit.head(5)"
      ],
      "metadata": {
        "id": "0nwdLYav4EWI",
        "colab": {
          "base_uri": "https://localhost:8080/",
          "height": 206
        },
        "outputId": "6e0b398b-73e5-4326-acdb-77943f8aa385"
      },
      "execution_count": null,
      "outputs": [
        {
          "output_type": "execute_result",
          "data": {
            "text/plain": [
              "   Id_customer                  Overdue\n",
              "0      5001711  Tidak memiliki pinjaman\n",
              "1      5001711                        0\n",
              "2      5001711                        0\n",
              "3      5001711                        0\n",
              "4      5001712                        0"
            ],
            "text/html": [
              "\n",
              "  <div id=\"df-2bb43e55-730c-4448-8c4a-a8e4ab344b82\">\n",
              "    <div class=\"colab-df-container\">\n",
              "      <div>\n",
              "<style scoped>\n",
              "    .dataframe tbody tr th:only-of-type {\n",
              "        vertical-align: middle;\n",
              "    }\n",
              "\n",
              "    .dataframe tbody tr th {\n",
              "        vertical-align: top;\n",
              "    }\n",
              "\n",
              "    .dataframe thead th {\n",
              "        text-align: right;\n",
              "    }\n",
              "</style>\n",
              "<table border=\"1\" class=\"dataframe\">\n",
              "  <thead>\n",
              "    <tr style=\"text-align: right;\">\n",
              "      <th></th>\n",
              "      <th>Id_customer</th>\n",
              "      <th>Overdue</th>\n",
              "    </tr>\n",
              "  </thead>\n",
              "  <tbody>\n",
              "    <tr>\n",
              "      <th>0</th>\n",
              "      <td>5001711</td>\n",
              "      <td>Tidak memiliki pinjaman</td>\n",
              "    </tr>\n",
              "    <tr>\n",
              "      <th>1</th>\n",
              "      <td>5001711</td>\n",
              "      <td>0</td>\n",
              "    </tr>\n",
              "    <tr>\n",
              "      <th>2</th>\n",
              "      <td>5001711</td>\n",
              "      <td>0</td>\n",
              "    </tr>\n",
              "    <tr>\n",
              "      <th>3</th>\n",
              "      <td>5001711</td>\n",
              "      <td>0</td>\n",
              "    </tr>\n",
              "    <tr>\n",
              "      <th>4</th>\n",
              "      <td>5001712</td>\n",
              "      <td>0</td>\n",
              "    </tr>\n",
              "  </tbody>\n",
              "</table>\n",
              "</div>\n",
              "      <button class=\"colab-df-convert\" onclick=\"convertToInteractive('df-2bb43e55-730c-4448-8c4a-a8e4ab344b82')\"\n",
              "              title=\"Convert this dataframe to an interactive table.\"\n",
              "              style=\"display:none;\">\n",
              "        \n",
              "  <svg xmlns=\"http://www.w3.org/2000/svg\" height=\"24px\"viewBox=\"0 0 24 24\"\n",
              "       width=\"24px\">\n",
              "    <path d=\"M0 0h24v24H0V0z\" fill=\"none\"/>\n",
              "    <path d=\"M18.56 5.44l.94 2.06.94-2.06 2.06-.94-2.06-.94-.94-2.06-.94 2.06-2.06.94zm-11 1L8.5 8.5l.94-2.06 2.06-.94-2.06-.94L8.5 2.5l-.94 2.06-2.06.94zm10 10l.94 2.06.94-2.06 2.06-.94-2.06-.94-.94-2.06-.94 2.06-2.06.94z\"/><path d=\"M17.41 7.96l-1.37-1.37c-.4-.4-.92-.59-1.43-.59-.52 0-1.04.2-1.43.59L10.3 9.45l-7.72 7.72c-.78.78-.78 2.05 0 2.83L4 21.41c.39.39.9.59 1.41.59.51 0 1.02-.2 1.41-.59l7.78-7.78 2.81-2.81c.8-.78.8-2.07 0-2.86zM5.41 20L4 18.59l7.72-7.72 1.47 1.35L5.41 20z\"/>\n",
              "  </svg>\n",
              "      </button>\n",
              "      \n",
              "  <style>\n",
              "    .colab-df-container {\n",
              "      display:flex;\n",
              "      flex-wrap:wrap;\n",
              "      gap: 12px;\n",
              "    }\n",
              "\n",
              "    .colab-df-convert {\n",
              "      background-color: #E8F0FE;\n",
              "      border: none;\n",
              "      border-radius: 50%;\n",
              "      cursor: pointer;\n",
              "      display: none;\n",
              "      fill: #1967D2;\n",
              "      height: 32px;\n",
              "      padding: 0 0 0 0;\n",
              "      width: 32px;\n",
              "    }\n",
              "\n",
              "    .colab-df-convert:hover {\n",
              "      background-color: #E2EBFA;\n",
              "      box-shadow: 0px 1px 2px rgba(60, 64, 67, 0.3), 0px 1px 3px 1px rgba(60, 64, 67, 0.15);\n",
              "      fill: #174EA6;\n",
              "    }\n",
              "\n",
              "    [theme=dark] .colab-df-convert {\n",
              "      background-color: #3B4455;\n",
              "      fill: #D2E3FC;\n",
              "    }\n",
              "\n",
              "    [theme=dark] .colab-df-convert:hover {\n",
              "      background-color: #434B5C;\n",
              "      box-shadow: 0px 1px 3px 1px rgba(0, 0, 0, 0.15);\n",
              "      filter: drop-shadow(0px 1px 2px rgba(0, 0, 0, 0.3));\n",
              "      fill: #FFFFFF;\n",
              "    }\n",
              "  </style>\n",
              "\n",
              "      <script>\n",
              "        const buttonEl =\n",
              "          document.querySelector('#df-2bb43e55-730c-4448-8c4a-a8e4ab344b82 button.colab-df-convert');\n",
              "        buttonEl.style.display =\n",
              "          google.colab.kernel.accessAllowed ? 'block' : 'none';\n",
              "\n",
              "        async function convertToInteractive(key) {\n",
              "          const element = document.querySelector('#df-2bb43e55-730c-4448-8c4a-a8e4ab344b82');\n",
              "          const dataTable =\n",
              "            await google.colab.kernel.invokeFunction('convertToInteractive',\n",
              "                                                     [key], {});\n",
              "          if (!dataTable) return;\n",
              "\n",
              "          const docLinkHtml = 'Like what you see? Visit the ' +\n",
              "            '<a target=\"_blank\" href=https://colab.research.google.com/notebooks/data_table.ipynb>data table notebook</a>'\n",
              "            + ' to learn more about interactive tables.';\n",
              "          element.innerHTML = '';\n",
              "          dataTable['output_type'] = 'display_data';\n",
              "          await google.colab.output.renderOutput(dataTable, element);\n",
              "          const docLink = document.createElement('div');\n",
              "          docLink.innerHTML = docLinkHtml;\n",
              "          element.appendChild(docLink);\n",
              "        }\n",
              "      </script>\n",
              "    </div>\n",
              "  </div>\n",
              "  "
            ]
          },
          "metadata": {},
          "execution_count": 5
        }
      ]
    },
    {
      "cell_type": "markdown",
      "source": [
        "## Data Merging"
      ],
      "metadata": {
        "id": "93ecFfei4doe"
      }
    },
    {
      "cell_type": "code",
      "source": [
        "#Merging data female and male\n",
        "data_var = pd.concat([female,male])"
      ],
      "metadata": {
        "id": "iD6wZvYg4woP"
      },
      "execution_count": null,
      "outputs": []
    },
    {
      "cell_type": "code",
      "source": [
        "#Final merge with credit history forming final data\n",
        "final_data = pd.merge(data_var, credit, on=['Id_customer'], how='inner')"
      ],
      "metadata": {
        "id": "a7xfZ085KHSq"
      },
      "execution_count": null,
      "outputs": []
    },
    {
      "cell_type": "code",
      "source": [
        "#Making sure merging is successful\n",
        "data_var['JK'].value_counts().plot.bar()"
      ],
      "metadata": {
        "id": "6MSUC_xdLgxM",
        "colab": {
          "base_uri": "https://localhost:8080/",
          "height": 329
        },
        "outputId": "4cc61ac3-847e-484d-a6f0-f579dbb1ba37"
      },
      "execution_count": null,
      "outputs": [
        {
          "output_type": "execute_result",
          "data": {
            "text/plain": [
              "<matplotlib.axes._subplots.AxesSubplot at 0x7f0ae83c4910>"
            ]
          },
          "metadata": {},
          "execution_count": 7
        },
        {
          "output_type": "display_data",
          "data": {
            "text/plain": [
              "<Figure size 432x288 with 1 Axes>"
            ],
            "image/png": "[encoded data removed]"
          },
          "metadata": {
            "needs_background": "light"
          }
        }
      ]
    },
    {
      "cell_type": "code",
      "source": [
        "#Making sure merging is successful\n",
        "print(final_data.columns)"
      ],
      "metadata": {
        "id": "q37Ud1ZpLbdg",
        "colab": {
          "base_uri": "https://localhost:8080/"
        },
        "outputId": "87e16308-6a6e-4776-fbd2-5a34ee9193ee"
      },
      "execution_count": null,
      "outputs": [
        {
          "output_type": "stream",
          "name": "stdout",
          "text": [
            "Index(['Id_customer', 'JK', 'KepemilikanMobil', 'KepemilikanProperti',\n",
            "       'JmlAnak', 'Pendapatan', 'TipePendapatan', 'TingkatPendidikan',\n",
            "       'StatusKeluarga', 'TipeRumah', 'FlagMobile', 'FlagWorkPhone',\n",
            "       'FlagPhone', 'Email', 'Pekerjaan', 'JmlAnggotaKeluarga', 'Age',\n",
            "       'Experience', 'Overdue'],\n",
            "      dtype='object')\n"
          ]
        }
      ]
    },
    {
      "cell_type": "code",
      "source": [
        "#Adjust credit number\n",
        "final_data = final_data[final_data['Overdue']!='Tidak memiliki pinjaman']\n",
        "final_data['Overdue'] = final_data['Overdue'].replace(['0','1','2','3','4','5'],['0','1','1','1','1','1'])\n",
        "final_data.tail()"
      ],
      "metadata": {
        "colab": {
          "base_uri": "https://localhost:8080/",
          "height": 357
        },
        "id": "U1LblLxHajpp",
        "outputId": "1fdd5e0d-1da4-4ad8-d67c-d1d285389bea"
      },
      "execution_count": null,
      "outputs": [
        {
          "output_type": "execute_result",
          "data": {
            "text/plain": [
              "        Id_customer         JK KepemilikanMobil KepemilikanProperti  JmlAnak  \\\n",
              "775040      5150337  Laki-laki            Tidak                  Ya        0   \n",
              "775041      5150337  Laki-laki            Tidak                  Ya        0   \n",
              "775042      5150337  Laki-laki            Tidak                  Ya        0   \n",
              "775043      5150337  Laki-laki            Tidak                  Ya        0   \n",
              "775044      5150337  Laki-laki            Tidak                  Ya        0   \n",
              "\n",
              "        Pendapatan TipePendapatan TingkatPendidikan StatusKeluarga TipeRumah  \\\n",
              "775040    112500.0        Bekerja                 G             NM        RA   \n",
              "775041    112500.0        Bekerja                 G             NM        RA   \n",
              "775042    112500.0        Bekerja                 G             NM        RA   \n",
              "775043    112500.0        Bekerja                 G             NM        RA   \n",
              "775044    112500.0        Bekerja                 G             NM        RA   \n",
              "\n",
              "        FlagMobile  FlagWorkPhone  FlagPhone  Email Pekerjaan  \\\n",
              "775040           1              0          0      0  Laborers   \n",
              "775041           1              0          0      0  Laborers   \n",
              "775042           1              0          0      0  Laborers   \n",
              "775043           1              0          0      0  Laborers   \n",
              "775044           1              0          0      0  Laborers   \n",
              "\n",
              "        JmlAnggotaKeluarga  Age  Experience Overdue  \n",
              "775040                   1   25           3       0  \n",
              "775041                   1   25           3       1  \n",
              "775042                   1   25           3       1  \n",
              "775043                   1   25           3       0  \n",
              "775044                   1   25           3       0  "
            ],
            "text/html": [
              "\n",
              "  <div id=\"df-25339a7a-43d5-4a2f-8b22-19c1434224c5\">\n",
              "    <div class=\"colab-df-container\">\n",
              "      <div>\n",
              "<style scoped>\n",
              "    .dataframe tbody tr th:only-of-type {\n",
              "        vertical-align: middle;\n",
              "    }\n",
              "\n",
              "    .dataframe tbody tr th {\n",
              "        vertical-align: top;\n",
              "    }\n",
              "\n",
              "    .dataframe thead th {\n",
              "        text-align: right;\n",
              "    }\n",
              "</style>\n",
              "<table border=\"1\" class=\"dataframe\">\n",
              "  <thead>\n",
              "    <tr style=\"text-align: right;\">\n",
              "      <th></th>\n",
              "      <th>Id_customer</th>\n",
              "      <th>JK</th>\n",
              "      <th>KepemilikanMobil</th>\n",
              "      <th>KepemilikanProperti</th>\n",
              "      <th>JmlAnak</th>\n",
              "      <th>Pendapatan</th>\n",
              "      <th>TipePendapatan</th>\n",
              "      <th>TingkatPendidikan</th>\n",
              "      <th>StatusKeluarga</th>\n",
              "      <th>TipeRumah</th>\n",
              "      <th>FlagMobile</th>\n",
              "      <th>FlagWorkPhone</th>\n",
              "      <th>FlagPhone</th>\n",
              "      <th>Email</th>\n",
              "      <th>Pekerjaan</th>\n",
              "      <th>JmlAnggotaKeluarga</th>\n",
              "      <th>Age</th>\n",
              "      <th>Experience</th>\n",
              "      <th>Overdue</th>\n",
              "    </tr>\n",
              "  </thead>\n",
              "  <tbody>\n",
              "    <tr>\n",
              "      <th>775040</th>\n",
              "      <td>5150337</td>\n",
              "      <td>Laki-laki</td>\n",
              "      <td>Tidak</td>\n",
              "      <td>Ya</td>\n",
              "      <td>0</td>\n",
              "      <td>112500.0</td>\n",
              "      <td>Bekerja</td>\n",
              "      <td>G</td>\n",
              "      <td>NM</td>\n",
              "      <td>RA</td>\n",
              "      <td>1</td>\n",
              "      <td>0</td>\n",
              "      <td>0</td>\n",
              "      <td>0</td>\n",
              "      <td>Laborers</td>\n",
              "      <td>1</td>\n",
              "      <td>25</td>\n",
              "      <td>3</td>\n",
              "      <td>0</td>\n",
              "    </tr>\n",
              "    <tr>\n",
              "      <th>775041</th>\n",
              "      <td>5150337</td>\n",
              "      <td>Laki-laki</td>\n",
              "      <td>Tidak</td>\n",
              "      <td>Ya</td>\n",
              "      <td>0</td>\n",
              "      <td>112500.0</td>\n",
              "      <td>Bekerja</td>\n",
              "      <td>G</td>\n",
              "      <td>NM</td>\n",
              "      <td>RA</td>\n",
              "      <td>1</td>\n",
              "      <td>0</td>\n",
              "      <td>0</td>\n",
              "      <td>0</td>\n",
              "      <td>Laborers</td>\n",
              "      <td>1</td>\n",
              "      <td>25</td>\n",
              "      <td>3</td>\n",
              "      <td>1</td>\n",
              "    </tr>\n",
              "    <tr>\n",
              "      <th>775042</th>\n",
              "      <td>5150337</td>\n",
              "      <td>Laki-laki</td>\n",
              "      <td>Tidak</td>\n",
              "      <td>Ya</td>\n",
              "      <td>0</td>\n",
              "      <td>112500.0</td>\n",
              "      <td>Bekerja</td>\n",
              "      <td>G</td>\n",
              "      <td>NM</td>\n",
              "      <td>RA</td>\n",
              "      <td>1</td>\n",
              "      <td>0</td>\n",
              "      <td>0</td>\n",
              "      <td>0</td>\n",
              "      <td>Laborers</td>\n",
              "      <td>1</td>\n",
              "      <td>25</td>\n",
              "      <td>3</td>\n",
              "      <td>1</td>\n",
              "    </tr>\n",
              "    <tr>\n",
              "      <th>775043</th>\n",
              "      <td>5150337</td>\n",
              "      <td>Laki-laki</td>\n",
              "      <td>Tidak</td>\n",
              "      <td>Ya</td>\n",
              "      <td>0</td>\n",
              "      <td>112500.0</td>\n",
              "      <td>Bekerja</td>\n",
              "      <td>G</td>\n",
              "      <td>NM</td>\n",
              "      <td>RA</td>\n",
              "      <td>1</td>\n",
              "      <td>0</td>\n",
              "      <td>0</td>\n",
              "      <td>0</td>\n",
              "      <td>Laborers</td>\n",
              "      <td>1</td>\n",
              "      <td>25</td>\n",
              "      <td>3</td>\n",
              "      <td>0</td>\n",
              "    </tr>\n",
              "    <tr>\n",
              "      <th>775044</th>\n",
              "      <td>5150337</td>\n",
              "      <td>Laki-laki</td>\n",
              "      <td>Tidak</td>\n",
              "      <td>Ya</td>\n",
              "      <td>0</td>\n",
              "      <td>112500.0</td>\n",
              "      <td>Bekerja</td>\n",
              "      <td>G</td>\n",
              "      <td>NM</td>\n",
              "      <td>RA</td>\n",
              "      <td>1</td>\n",
              "      <td>0</td>\n",
              "      <td>0</td>\n",
              "      <td>0</td>\n",
              "      <td>Laborers</td>\n",
              "      <td>1</td>\n",
              "      <td>25</td>\n",
              "      <td>3</td>\n",
              "      <td>0</td>\n",
              "    </tr>\n",
              "  </tbody>\n",
              "</table>\n",
              "</div>\n",
              "      <button class=\"colab-df-convert\" onclick=\"convertToInteractive('df-25339a7a-43d5-4a2f-8b22-19c1434224c5')\"\n",
              "              title=\"Convert this dataframe to an interactive table.\"\n",
              "              style=\"display:none;\">\n",
              "        \n",
              "  <svg xmlns=\"http://www.w3.org/2000/svg\" height=\"24px\"viewBox=\"0 0 24 24\"\n",
              "       width=\"24px\">\n",
              "    <path d=\"M0 0h24v24H0V0z\" fill=\"none\"/>\n",
              "    <path d=\"M18.56 5.44l.94 2.06.94-2.06 2.06-.94-2.06-.94-.94-2.06-.94 2.06-2.06.94zm-11 1L8.5 8.5l.94-2.06 2.06-.94-2.06-.94L8.5 2.5l-.94 2.06-2.06.94zm10 10l.94 2.06.94-2.06 2.06-.94-2.06-.94-.94-2.06-.94 2.06-2.06.94z\"/><path d=\"M17.41 7.96l-1.37-1.37c-.4-.4-.92-.59-1.43-.59-.52 0-1.04.2-1.43.59L10.3 9.45l-7.72 7.72c-.78.78-.78 2.05 0 2.83L4 21.41c.39.39.9.59 1.41.59.51 0 1.02-.2 1.41-.59l7.78-7.78 2.81-2.81c.8-.78.8-2.07 0-2.86zM5.41 20L4 18.59l7.72-7.72 1.47 1.35L5.41 20z\"/>\n",
              "  </svg>\n",
              "      </button>\n",
              "      \n",
              "  <style>\n",
              "    .colab-df-container {\n",
              "      display:flex;\n",
              "      flex-wrap:wrap;\n",
              "      gap: 12px;\n",
              "    }\n",
              "\n",
              "    .colab-df-convert {\n",
              "      background-color: #E8F0FE;\n",
              "      border: none;\n",
              "      border-radius: 50%;\n",
              "      cursor: pointer;\n",
              "      display: none;\n",
              "      fill: #1967D2;\n",
              "      height: 32px;\n",
              "      padding: 0 0 0 0;\n",
              "      width: 32px;\n",
              "    }\n",
              "\n",
              "    .colab-df-convert:hover {\n",
              "      background-color: #E2EBFA;\n",
              "      box-shadow: 0px 1px 2px rgba(60, 64, 67, 0.3), 0px 1px 3px 1px rgba(60, 64, 67, 0.15);\n",
              "      fill: #174EA6;\n",
              "    }\n",
              "\n",
              "    [theme=dark] .colab-df-convert {\n",
              "      background-color: #3B4455;\n",
              "      fill: #D2E3FC;\n",
              "    }\n",
              "\n",
              "    [theme=dark] .colab-df-convert:hover {\n",
              "      background-color: #434B5C;\n",
              "      box-shadow: 0px 1px 3px 1px rgba(0, 0, 0, 0.15);\n",
              "      filter: drop-shadow(0px 1px 2px rgba(0, 0, 0, 0.3));\n",
              "      fill: #FFFFFF;\n",
              "    }\n",
              "  </style>\n",
              "\n",
              "      <script>\n",
              "        const buttonEl =\n",
              "          document.querySelector('#df-25339a7a-43d5-4a2f-8b22-19c1434224c5 button.colab-df-convert');\n",
              "        buttonEl.style.display =\n",
              "          google.colab.kernel.accessAllowed ? 'block' : 'none';\n",
              "\n",
              "        async function convertToInteractive(key) {\n",
              "          const element = document.querySelector('#df-25339a7a-43d5-4a2f-8b22-19c1434224c5');\n",
              "          const dataTable =\n",
              "            await google.colab.kernel.invokeFunction('convertToInteractive',\n",
              "                                                     [key], {});\n",
              "          if (!dataTable) return;\n",
              "\n",
              "          const docLinkHtml = 'Like what you see? Visit the ' +\n",
              "            '<a target=\"_blank\" href=https://colab.research.google.com/notebooks/data_table.ipynb>data table notebook</a>'\n",
              "            + ' to learn more about interactive tables.';\n",
              "          element.innerHTML = '';\n",
              "          dataTable['output_type'] = 'display_data';\n",
              "          await google.colab.output.renderOutput(dataTable, element);\n",
              "          const docLink = document.createElement('div');\n",
              "          docLink.innerHTML = docLinkHtml;\n",
              "          element.appendChild(docLink);\n",
              "        }\n",
              "      </script>\n",
              "    </div>\n",
              "  </div>\n",
              "  "
            ]
          },
          "metadata": {},
          "execution_count": 10
        }
      ]
    },
    {
      "cell_type": "code",
      "source": [
        "#Successful.\n"
      ],
      "metadata": {
        "id": "hDzpCs3CXYG8"
      },
      "execution_count": null,
      "outputs": []
    },
    {
      "cell_type": "markdown",
      "source": [
        "## Data Cleaning"
      ],
      "metadata": {
        "id": "coATZFOMMAGQ"
      }
    },
    {
      "cell_type": "markdown",
      "source": [
        "### Missing Values"
      ],
      "metadata": {
        "id": "xafIr3IBRhoM"
      }
    },
    {
      "cell_type": "code",
      "source": [
        "#Checking for missing values\n",
        "missing = final_data.isna().sum()\n",
        "print(missing)"
      ],
      "metadata": {
        "id": "RsAUvKWbMVpI",
        "colab": {
          "base_uri": "https://localhost:8080/"
        },
        "outputId": "f24314c9-0e78-4485-be1f-16d736856109"
      },
      "execution_count": null,
      "outputs": [
        {
          "output_type": "stream",
          "name": "stdout",
          "text": [
            "Id_customer                 0\n",
            "JK                          0\n",
            "KepemilikanMobil            0\n",
            "KepemilikanProperti         0\n",
            "JmlAnak                     0\n",
            "Pendapatan                  0\n",
            "TipePendapatan              0\n",
            "TingkatPendidikan           0\n",
            "StatusKeluarga              0\n",
            "TipeRumah                   0\n",
            "FlagMobile                  0\n",
            "FlagWorkPhone               0\n",
            "FlagPhone                   0\n",
            "Email                       0\n",
            "Pekerjaan              196600\n",
            "JmlAnggotaKeluarga          0\n",
            "Age                         0\n",
            "Experience                  0\n",
            "Overdue                     0\n",
            "dtype: int64\n"
          ]
        }
      ]
    },
    {
      "cell_type": "code",
      "source": [
        "#Checking for percentage of missing values\n",
        "missing = missing.to_frame(name='num_missing')\n",
        "missing['perc_missing'] = (missing['num_missing']/final_data.shape[0])*100\n",
        "for index, row in missing.iterrows():\n",
        "    if (row['num_missing'] > 0):\n",
        "        print (\"For \\\"%s\\\" the number of missing values are: %d (%.0f%%)\" %  (index,\n",
        "                                                                     row['num_missing'],\n",
        "                                                                    row['perc_missing']))"
      ],
      "metadata": {
        "id": "tW6KOhzIRtIf",
        "colab": {
          "base_uri": "https://localhost:8080/"
        },
        "outputId": "3dd67531-2e6b-4691-806f-3177a7393819"
      },
      "execution_count": null,
      "outputs": [
        {
          "output_type": "stream",
          "name": "stdout",
          "text": [
            "For \"Pekerjaan\" the number of missing values are: 196600 (31%)\n"
          ]
        }
      ]
    },
    {
      "cell_type": "code",
      "source": [
        "final_data.duplicated().sum()"
      ],
      "metadata": {
        "colab": {
          "base_uri": "https://localhost:8080/"
        },
        "id": "ZBUYdvkFV0qN",
        "outputId": "bfa64663-604a-42d4-c38b-cdd51848c08a"
      },
      "execution_count": null,
      "outputs": [
        {
          "output_type": "execute_result",
          "data": {
            "text/plain": [
              "592162"
            ]
          },
          "metadata": {},
          "execution_count": 14
        }
      ]
    },
    {
      "cell_type": "code",
      "source": [
        "final_data = final_data.drop_duplicates(keep='last')"
      ],
      "metadata": {
        "id": "_qBHElwaWAQY"
      },
      "execution_count": null,
      "outputs": []
    },
    {
      "cell_type": "code",
      "source": [
        "#Dropping missing values\n",
        "data_fix = final_data.dropna()\n",
        "data_fix.isna().sum()"
      ],
      "metadata": {
        "id": "XQbTRR-zVZCv",
        "colab": {
          "base_uri": "https://localhost:8080/"
        },
        "outputId": "109fff0c-d17e-407e-bae2-0b08356b518b"
      },
      "execution_count": null,
      "outputs": [
        {
          "output_type": "execute_result",
          "data": {
            "text/plain": [
              "Id_customer            0\n",
              "JK                     0\n",
              "KepemilikanMobil       0\n",
              "KepemilikanProperti    0\n",
              "JmlAnak                0\n",
              "Pendapatan             0\n",
              "TipePendapatan         0\n",
              "TingkatPendidikan      0\n",
              "StatusKeluarga         0\n",
              "TipeRumah              0\n",
              "FlagMobile             0\n",
              "FlagWorkPhone          0\n",
              "FlagPhone              0\n",
              "Email                  0\n",
              "Pekerjaan              0\n",
              "JmlAnggotaKeluarga     0\n",
              "Age                    0\n",
              "Experience             0\n",
              "Overdue                0\n",
              "dtype: int64"
            ]
          },
          "metadata": {},
          "execution_count": 16
        }
      ]
    },
    {
      "cell_type": "code",
      "source": [
        "#Successfuly dropping missing values"
      ],
      "metadata": {
        "id": "-IyhXvhaXNeH"
      },
      "execution_count": null,
      "outputs": []
    },
    {
      "cell_type": "code",
      "source": [
        "#Adjust data types\n",
        "#Changing the data type to category\n",
        "cols=data_fix.select_dtypes(exclude='int').columns.to_list()\n",
        "data_fix[cols]=data_fix[cols].astype('category')"
      ],
      "metadata": {
        "colab": {
          "base_uri": "https://localhost:8080/"
        },
        "id": "AiVLEdZQb-9g",
        "outputId": "ef5bff2e-ea11-4634-bda0-70bdb172bde2"
      },
      "execution_count": null,
      "outputs": [
        {
          "output_type": "stream",
          "name": "stderr",
          "text": [
            "/usr/local/lib/python3.8/dist-packages/pandas/core/frame.py:3641: SettingWithCopyWarning: \n",
            "A value is trying to be set on a copy of a slice from a DataFrame.\n",
            "Try using .loc[row_indexer,col_indexer] = value instead\n",
            "\n",
            "See the caveats in the documentation: https://pandas.pydata.org/pandas-docs/stable/user_guide/indexing.html#returning-a-view-versus-a-copy\n",
            "  self[k1] = value[k2]\n"
          ]
        }
      ]
    },
    {
      "cell_type": "code",
      "source": [
        "data_fix.describe()"
      ],
      "metadata": {
        "colab": {
          "base_uri": "https://localhost:8080/",
          "height": 300
        },
        "id": "j4MlOiqKcNAJ",
        "outputId": "35763ce4-a8d7-4f79-b738-3dbd0e27225b"
      },
      "execution_count": null,
      "outputs": [
        {
          "output_type": "execute_result",
          "data": {
            "text/plain": [
              "        Id_customer       JmlAnak  FlagMobile  FlagWorkPhone     FlagPhone  \\\n",
              "count  2.561200e+04  25612.000000     25612.0   25612.000000  25612.000000   \n",
              "mean   5.078705e+06      0.510425         1.0       0.270615      0.289981   \n",
              "std    4.187420e+04      0.795035         0.0       0.444286      0.453762   \n",
              "min    5.008806e+06      0.000000         1.0       0.000000      0.000000   \n",
              "25%    5.042247e+06      0.000000         1.0       0.000000      0.000000   \n",
              "50%    5.078918e+06      0.000000         1.0       0.000000      0.000000   \n",
              "75%    5.115585e+06      1.000000         1.0       1.000000      1.000000   \n",
              "max    5.150487e+06     19.000000         1.0       1.000000      1.000000   \n",
              "\n",
              "              Email  JmlAnggotaKeluarga           Age    Experience  \n",
              "count  25612.000000        25612.000000  25612.000000  25612.000000  \n",
              "mean       0.103740            2.290020     40.538888      7.216930  \n",
              "std        0.304929            0.954425      9.615501      6.445655  \n",
              "min        0.000000            1.000000     21.000000      0.000000  \n",
              "25%        0.000000            2.000000     33.000000      3.000000  \n",
              "50%        0.000000            2.000000     40.000000      5.000000  \n",
              "75%        0.000000            3.000000     48.000000     10.000000  \n",
              "max        1.000000           20.000000     67.000000     43.000000  "
            ],
            "text/html": [
              "\n",
              "  <div id=\"df-8ced57c4-085e-43ee-a72f-34c33b09a779\">\n",
              "    <div class=\"colab-df-container\">\n",
              "      <div>\n",
              "<style scoped>\n",
              "    .dataframe tbody tr th:only-of-type {\n",
              "        vertical-align: middle;\n",
              "    }\n",
              "\n",
              "    .dataframe tbody tr th {\n",
              "        vertical-align: top;\n",
              "    }\n",
              "\n",
              "    .dataframe thead th {\n",
              "        text-align: right;\n",
              "    }\n",
              "</style>\n",
              "<table border=\"1\" class=\"dataframe\">\n",
              "  <thead>\n",
              "    <tr style=\"text-align: right;\">\n",
              "      <th></th>\n",
              "      <th>Id_customer</th>\n",
              "      <th>JmlAnak</th>\n",
              "      <th>FlagMobile</th>\n",
              "      <th>FlagWorkPhone</th>\n",
              "      <th>FlagPhone</th>\n",
              "      <th>Email</th>\n",
              "      <th>JmlAnggotaKeluarga</th>\n",
              "      <th>Age</th>\n",
              "      <th>Experience</th>\n",
              "    </tr>\n",
              "  </thead>\n",
              "  <tbody>\n",
              "    <tr>\n",
              "      <th>count</th>\n",
              "      <td>2.561200e+04</td>\n",
              "      <td>25612.000000</td>\n",
              "      <td>25612.0</td>\n",
              "      <td>25612.000000</td>\n",
              "      <td>25612.000000</td>\n",
              "      <td>25612.000000</td>\n",
              "      <td>25612.000000</td>\n",
              "      <td>25612.000000</td>\n",
              "      <td>25612.000000</td>\n",
              "    </tr>\n",
              "    <tr>\n",
              "      <th>mean</th>\n",
              "      <td>5.078705e+06</td>\n",
              "      <td>0.510425</td>\n",
              "      <td>1.0</td>\n",
              "      <td>0.270615</td>\n",
              "      <td>0.289981</td>\n",
              "      <td>0.103740</td>\n",
              "      <td>2.290020</td>\n",
              "      <td>40.538888</td>\n",
              "      <td>7.216930</td>\n",
              "    </tr>\n",
              "    <tr>\n",
              "      <th>std</th>\n",
              "      <td>4.187420e+04</td>\n",
              "      <td>0.795035</td>\n",
              "      <td>0.0</td>\n",
              "      <td>0.444286</td>\n",
              "      <td>0.453762</td>\n",
              "      <td>0.304929</td>\n",
              "      <td>0.954425</td>\n",
              "      <td>9.615501</td>\n",
              "      <td>6.445655</td>\n",
              "    </tr>\n",
              "    <tr>\n",
              "      <th>min</th>\n",
              "      <td>5.008806e+06</td>\n",
              "      <td>0.000000</td>\n",
              "      <td>1.0</td>\n",
              "      <td>0.000000</td>\n",
              "      <td>0.000000</td>\n",
              "      <td>0.000000</td>\n",
              "      <td>1.000000</td>\n",
              "      <td>21.000000</td>\n",
              "      <td>0.000000</td>\n",
              "    </tr>\n",
              "    <tr>\n",
              "      <th>25%</th>\n",
              "      <td>5.042247e+06</td>\n",
              "      <td>0.000000</td>\n",
              "      <td>1.0</td>\n",
              "      <td>0.000000</td>\n",
              "      <td>0.000000</td>\n",
              "      <td>0.000000</td>\n",
              "      <td>2.000000</td>\n",
              "      <td>33.000000</td>\n",
              "      <td>3.000000</td>\n",
              "    </tr>\n",
              "    <tr>\n",
              "      <th>50%</th>\n",
              "      <td>5.078918e+06</td>\n",
              "      <td>0.000000</td>\n",
              "      <td>1.0</td>\n",
              "      <td>0.000000</td>\n",
              "      <td>0.000000</td>\n",
              "      <td>0.000000</td>\n",
              "      <td>2.000000</td>\n",
              "      <td>40.000000</td>\n",
              "      <td>5.000000</td>\n",
              "    </tr>\n",
              "    <tr>\n",
              "      <th>75%</th>\n",
              "      <td>5.115585e+06</td>\n",
              "      <td>1.000000</td>\n",
              "      <td>1.0</td>\n",
              "      <td>1.000000</td>\n",
              "      <td>1.000000</td>\n",
              "      <td>0.000000</td>\n",
              "      <td>3.000000</td>\n",
              "      <td>48.000000</td>\n",
              "      <td>10.000000</td>\n",
              "    </tr>\n",
              "    <tr>\n",
              "      <th>max</th>\n",
              "      <td>5.150487e+06</td>\n",
              "      <td>19.000000</td>\n",
              "      <td>1.0</td>\n",
              "      <td>1.000000</td>\n",
              "      <td>1.000000</td>\n",
              "      <td>1.000000</td>\n",
              "      <td>20.000000</td>\n",
              "      <td>67.000000</td>\n",
              "      <td>43.000000</td>\n",
              "    </tr>\n",
              "  </tbody>\n",
              "</table>\n",
              "</div>\n",
              "      <button class=\"colab-df-convert\" onclick=\"convertToInteractive('df-8ced57c4-085e-43ee-a72f-34c33b09a779')\"\n",
              "              title=\"Convert this dataframe to an interactive table.\"\n",
              "              style=\"display:none;\">\n",
              "        \n",
              "  <svg xmlns=\"http://www.w3.org/2000/svg\" height=\"24px\"viewBox=\"0 0 24 24\"\n",
              "       width=\"24px\">\n",
              "    <path d=\"M0 0h24v24H0V0z\" fill=\"none\"/>\n",
              "    <path d=\"M18.56 5.44l.94 2.06.94-2.06 2.06-.94-2.06-.94-.94-2.06-.94 2.06-2.06.94zm-11 1L8.5 8.5l.94-2.06 2.06-.94-2.06-.94L8.5 2.5l-.94 2.06-2.06.94zm10 10l.94 2.06.94-2.06 2.06-.94-2.06-.94-.94-2.06-.94 2.06-2.06.94z\"/><path d=\"M17.41 7.96l-1.37-1.37c-.4-.4-.92-.59-1.43-.59-.52 0-1.04.2-1.43.59L10.3 9.45l-7.72 7.72c-.78.78-.78 2.05 0 2.83L4 21.41c.39.39.9.59 1.41.59.51 0 1.02-.2 1.41-.59l7.78-7.78 2.81-2.81c.8-.78.8-2.07 0-2.86zM5.41 20L4 18.59l7.72-7.72 1.47 1.35L5.41 20z\"/>\n",
              "  </svg>\n",
              "      </button>\n",
              "      \n",
              "  <style>\n",
              "    .colab-df-container {\n",
              "      display:flex;\n",
              "      flex-wrap:wrap;\n",
              "      gap: 12px;\n",
              "    }\n",
              "\n",
              "    .colab-df-convert {\n",
              "      background-color: #E8F0FE;\n",
              "      border: none;\n",
              "      border-radius: 50%;\n",
              "      cursor: pointer;\n",
              "      display: none;\n",
              "      fill: #1967D2;\n",
              "      height: 32px;\n",
              "      padding: 0 0 0 0;\n",
              "      width: 32px;\n",
              "    }\n",
              "\n",
              "    .colab-df-convert:hover {\n",
              "      background-color: #E2EBFA;\n",
              "      box-shadow: 0px 1px 2px rgba(60, 64, 67, 0.3), 0px 1px 3px 1px rgba(60, 64, 67, 0.15);\n",
              "      fill: #174EA6;\n",
              "    }\n",
              "\n",
              "    [theme=dark] .colab-df-convert {\n",
              "      background-color: #3B4455;\n",
              "      fill: #D2E3FC;\n",
              "    }\n",
              "\n",
              "    [theme=dark] .colab-df-convert:hover {\n",
              "      background-color: #434B5C;\n",
              "      box-shadow: 0px 1px 3px 1px rgba(0, 0, 0, 0.15);\n",
              "      filter: drop-shadow(0px 1px 2px rgba(0, 0, 0, 0.3));\n",
              "      fill: #FFFFFF;\n",
              "    }\n",
              "  </style>\n",
              "\n",
              "      <script>\n",
              "        const buttonEl =\n",
              "          document.querySelector('#df-8ced57c4-085e-43ee-a72f-34c33b09a779 button.colab-df-convert');\n",
              "        buttonEl.style.display =\n",
              "          google.colab.kernel.accessAllowed ? 'block' : 'none';\n",
              "\n",
              "        async function convertToInteractive(key) {\n",
              "          const element = document.querySelector('#df-8ced57c4-085e-43ee-a72f-34c33b09a779');\n",
              "          const dataTable =\n",
              "            await google.colab.kernel.invokeFunction('convertToInteractive',\n",
              "                                                     [key], {});\n",
              "          if (!dataTable) return;\n",
              "\n",
              "          const docLinkHtml = 'Like what you see? Visit the ' +\n",
              "            '<a target=\"_blank\" href=https://colab.research.google.com/notebooks/data_table.ipynb>data table notebook</a>'\n",
              "            + ' to learn more about interactive tables.';\n",
              "          element.innerHTML = '';\n",
              "          dataTable['output_type'] = 'display_data';\n",
              "          await google.colab.output.renderOutput(dataTable, element);\n",
              "          const docLink = document.createElement('div');\n",
              "          docLink.innerHTML = docLinkHtml;\n",
              "          element.appendChild(docLink);\n",
              "        }\n",
              "      </script>\n",
              "    </div>\n",
              "  </div>\n",
              "  "
            ]
          },
          "metadata": {},
          "execution_count": 19
        }
      ]
    },
    {
      "cell_type": "code",
      "source": [
        "#Dropping irrelevant column\n",
        "data_fix = data_fix.drop(['FlagMobile','Email'], axis=1)"
      ],
      "metadata": {
        "id": "B-Y7xevwcolB"
      },
      "execution_count": null,
      "outputs": []
    },
    {
      "cell_type": "code",
      "source": [
        "print(data_fix.info())"
      ],
      "metadata": {
        "colab": {
          "base_uri": "https://localhost:8080/"
        },
        "id": "okaQwMblgdmQ",
        "outputId": "1aff4716-1b6c-4d53-ccc1-b50c9b0617db"
      },
      "execution_count": null,
      "outputs": [
        {
          "output_type": "stream",
          "name": "stdout",
          "text": [
            "<class 'pandas.core.frame.DataFrame'>\n",
            "Int64Index: 25612 entries, 2 to 775044\n",
            "Data columns (total 17 columns):\n",
            " #   Column               Non-Null Count  Dtype   \n",
            "---  ------               --------------  -----   \n",
            " 0   Id_customer          25612 non-null  int64   \n",
            " 1   JK                   25612 non-null  category\n",
            " 2   KepemilikanMobil     25612 non-null  category\n",
            " 3   KepemilikanProperti  25612 non-null  category\n",
            " 4   JmlAnak              25612 non-null  int64   \n",
            " 5   Pendapatan           25612 non-null  category\n",
            " 6   TipePendapatan       25612 non-null  category\n",
            " 7   TingkatPendidikan    25612 non-null  category\n",
            " 8   StatusKeluarga       25612 non-null  category\n",
            " 9   TipeRumah            25612 non-null  category\n",
            " 10  FlagWorkPhone        25612 non-null  int64   \n",
            " 11  FlagPhone            25612 non-null  int64   \n",
            " 12  Pekerjaan            25612 non-null  category\n",
            " 13  JmlAnggotaKeluarga   25612 non-null  int64   \n",
            " 14  Age                  25612 non-null  int64   \n",
            " 15  Experience           25612 non-null  int64   \n",
            " 16  Overdue              25612 non-null  category\n",
            "dtypes: category(10), int64(7)\n",
            "memory usage: 1.8 MB\n",
            "None\n"
          ]
        }
      ]
    },
    {
      "cell_type": "code",
      "source": [
        "data_fixi = data_fix"
      ],
      "metadata": {
        "id": "SHH81PKA43VA"
      },
      "execution_count": null,
      "outputs": []
    },
    {
      "cell_type": "markdown",
      "source": [
        "### Managing Outliers"
      ],
      "metadata": {
        "id": "VhX--aZ6Xgff"
      }
    },
    {
      "cell_type": "code",
      "source": [
        "#Figuring which int variable has outliers.\n",
        "sns.boxplot(x=data_fix['JmlAnak'])"
      ],
      "metadata": {
        "id": "YOpqmSdpZcZq",
        "colab": {
          "base_uri": "https://localhost:8080/"
        },
        "outputId": "7c75c439-ccf8-46fe-8170-8f8964967776"
      },
      "execution_count": null,
      "outputs": [
        {
          "output_type": "execute_result",
          "data": {
            "text/plain": [
              "<matplotlib.axes._subplots.AxesSubplot at 0x7f7fa00f6e80>"
            ]
          },
          "metadata": {},
          "execution_count": 16
        },
        {
          "output_type": "display_data",
          "data": {
            "text/plain": [
              "<Figure size 432x288 with 1 Axes>"
            ],
            "image/png": "[encoded data removed]"
          },
          "metadata": {
            "needs_background": "light"
          }
        }
      ]
    },
    {
      "cell_type": "code",
      "source": [
        "sns.boxplot(x=data_fix['Pendapatan'])"
      ],
      "metadata": {
        "id": "85MPBrJcs_gB",
        "colab": {
          "base_uri": "https://localhost:8080/"
        },
        "outputId": "47ab5215-a78c-4b16-91d0-ba56acdf9fe0"
      },
      "execution_count": null,
      "outputs": [
        {
          "output_type": "execute_result",
          "data": {
            "text/plain": [
              "<matplotlib.axes._subplots.AxesSubplot at 0x7f7f9fc50250>"
            ]
          },
          "metadata": {},
          "execution_count": 17
        },
        {
          "output_type": "display_data",
          "data": {
            "text/plain": [
              "<Figure size 432x288 with 1 Axes>"
            ],
            "image/png": "[encoded data removed]"
          },
          "metadata": {
            "needs_background": "light"
          }
        }
      ]
    },
    {
      "cell_type": "code",
      "source": [
        "sns.boxplot(x=data_fix['JmlAnggotaKeluarga'])"
      ],
      "metadata": {
        "id": "J4KnKGhvsR9R",
        "colab": {
          "base_uri": "https://localhost:8080/"
        },
        "outputId": "29ee1a2a-8872-4ebe-99fd-55b38548e3ea"
      },
      "execution_count": null,
      "outputs": [
        {
          "output_type": "execute_result",
          "data": {
            "text/plain": [
              "<matplotlib.axes._subplots.AxesSubplot at 0x7f7f9fbc6e20>"
            ]
          },
          "metadata": {},
          "execution_count": 18
        },
        {
          "output_type": "display_data",
          "data": {
            "text/plain": [
              "<Figure size 432x288 with 1 Axes>"
            ],
            "image/png": "[encoded data removed]"
          },
          "metadata": {
            "needs_background": "light"
          }
        }
      ]
    },
    {
      "cell_type": "code",
      "source": [
        "sns.boxplot(x=data_fix['Age']) #No outliers found, doesnt need handling"
      ],
      "metadata": {
        "id": "7qL1gCYfsgUG",
        "colab": {
          "base_uri": "https://localhost:8080/"
        },
        "outputId": "a98b673e-b3a1-4b9c-9346-721ef8f63e1c"
      },
      "execution_count": null,
      "outputs": [
        {
          "output_type": "execute_result",
          "data": {
            "text/plain": [
              "<matplotlib.axes._subplots.AxesSubplot at 0x7f7f9fb28b20>"
            ]
          },
          "metadata": {},
          "execution_count": 19
        },
        {
          "output_type": "display_data",
          "data": {
            "text/plain": [
              "<Figure size 432x288 with 1 Axes>"
            ],
            "image/png": "[encoded data removed]"
          },
          "metadata": {
            "needs_background": "light"
          }
        }
      ]
    },
    {
      "cell_type": "code",
      "source": [
        "sns.boxplot(x=data_fix['Experience'])"
      ],
      "metadata": {
        "id": "twpTDR7Gs0wY",
        "colab": {
          "base_uri": "https://localhost:8080/"
        },
        "outputId": "1545bc50-fb3a-4347-a29c-e7a8a52b20d2"
      },
      "execution_count": null,
      "outputs": [
        {
          "output_type": "execute_result",
          "data": {
            "text/plain": [
              "<matplotlib.axes._subplots.AxesSubplot at 0x7f7f9fb1a940>"
            ]
          },
          "metadata": {},
          "execution_count": 20
        },
        {
          "output_type": "display_data",
          "data": {
            "text/plain": [
              "<Figure size 432x288 with 1 Axes>"
            ],
            "image/png": "[encoded data removed]"
          },
          "metadata": {
            "needs_background": "light"
          }
        }
      ]
    },
    {
      "cell_type": "code",
      "source": [
        "#Handling outlier for 'JmlAnak'\n",
        "percentile25 = data_fix['JmlAnak'].quantile(0.25)\n",
        "percentile75 = data_fix['JmlAnak'].quantile(0.75)\n",
        "iqr = percentile75 - percentile25\n",
        "upper_limit = percentile75 + 1.5 * iqr\n",
        "lower_limit = percentile25 - 1.5 * iqr\n",
        "data_fix[data_fix['JmlAnak'] > upper_limit]\n",
        "data_fix[data_fix['JmlAnak'] < lower_limit]\n",
        "new_df = data_fix[data_fix['JmlAnak'] < upper_limit]\n",
        "new_df.shape\n",
        "sns.boxplot(x=new_df['JmlAnak'])"
      ],
      "metadata": {
        "id": "s0bsxPzftnym",
        "colab": {
          "base_uri": "https://localhost:8080/"
        },
        "outputId": "0b92e465-86bf-4312-85ad-595e4488b296"
      },
      "execution_count": null,
      "outputs": [
        {
          "output_type": "execute_result",
          "data": {
            "text/plain": [
              "<matplotlib.axes._subplots.AxesSubplot at 0x7f7f9fab0640>"
            ]
          },
          "metadata": {},
          "execution_count": 21
        },
        {
          "output_type": "display_data",
          "data": {
            "text/plain": [
              "<Figure size 432x288 with 1 Axes>"
            ],
            "image/png": "[encoded data removed]"
          },
          "metadata": {
            "needs_background": "light"
          }
        }
      ]
    },
    {
      "cell_type": "code",
      "source": [
        "#Handling outlier for 'Pendapatan'\n",
        "percentile25 = new_df['Pendapatan'].quantile(0.25)\n",
        "percentile75 = new_df['Pendapatan'].quantile(0.75)\n",
        "iqr = percentile75 - percentile25\n",
        "upper_limit = percentile75 + 1.5 * iqr\n",
        "lower_limit = percentile25 - 1.5 * iqr\n",
        "new_df[new_df['Pendapatan'] > upper_limit]\n",
        "new_df[new_df['Pendapatan'] < lower_limit]\n",
        "new_dt = new_df[new_df['Pendapatan'] < upper_limit]\n",
        "new_dt.shape\n",
        "sns.boxplot(x=new_dt['Pendapatan'])"
      ],
      "metadata": {
        "id": "F6ZYnQnpxrOg",
        "colab": {
          "base_uri": "https://localhost:8080/"
        },
        "outputId": "67a9f863-4215-47da-e152-ed31465c06a0"
      },
      "execution_count": null,
      "outputs": [
        {
          "output_type": "execute_result",
          "data": {
            "text/plain": [
              "<matplotlib.axes._subplots.AxesSubplot at 0x7f7f9fa24220>"
            ]
          },
          "metadata": {},
          "execution_count": 22
        },
        {
          "output_type": "display_data",
          "data": {
            "text/plain": [
              "<Figure size 432x288 with 1 Axes>"
            ],
            "image/png": "[encoded data removed]"
          },
          "metadata": {
            "needs_background": "light"
          }
        }
      ]
    },
    {
      "cell_type": "code",
      "source": [
        "#Handling outlier for 'JmlAnggotaKeluarga'\n",
        "percentile25 = new_dt['JmlAnggotaKeluarga'].quantile(0.25)\n",
        "percentile75 = new_dt['JmlAnggotaKeluarga'].quantile(0.75)\n",
        "iqr = percentile75 - percentile25\n",
        "upper_limit = percentile75 + 1.5 * iqr\n",
        "lower_limit = percentile25 - 1.5 * iqr\n",
        "new_dt[new_dt['JmlAnggotaKeluarga'] > upper_limit]\n",
        "new_dt[new_dt['JmlAnggotaKeluarga'] < lower_limit]\n",
        "new_dx = new_df[new_df['JmlAnggotaKeluarga'] < upper_limit]\n",
        "new_dx.shape\n",
        "sns.boxplot(x=new_dx['JmlAnggotaKeluarga'])"
      ],
      "metadata": {
        "id": "NQG91hbU40rq",
        "colab": {
          "base_uri": "https://localhost:8080/"
        },
        "outputId": "0471a4da-722c-4c2a-88f9-450eb0b8cbda"
      },
      "execution_count": null,
      "outputs": [
        {
          "output_type": "execute_result",
          "data": {
            "text/plain": [
              "<matplotlib.axes._subplots.AxesSubplot at 0x7f7f9fa0e9a0>"
            ]
          },
          "metadata": {},
          "execution_count": 23
        },
        {
          "output_type": "display_data",
          "data": {
            "text/plain": [
              "<Figure size 432x288 with 1 Axes>"
            ],
            "image/png": "[encoded data removed]"
          },
          "metadata": {
            "needs_background": "light"
          }
        }
      ]
    },
    {
      "cell_type": "code",
      "source": [
        "#Handling outlier for 'Experience'\n",
        "percentile25 = new_dx['Experience'].quantile(0.25)\n",
        "percentile75 = new_dx['Experience'].quantile(0.75)\n",
        "iqr = percentile75 - percentile25\n",
        "upper_limit = percentile75 + 1.5 * iqr\n",
        "lower_limit = percentile25 - 1.5 * iqr\n",
        "new_dx[new_dx['Experience'] > upper_limit]\n",
        "new_dx[new_dx['Experience'] < lower_limit]\n",
        "new_dz = new_df[new_df['Experience'] < upper_limit]\n",
        "new_dz.shape\n",
        "sns.boxplot(x=new_dz['Experience'])"
      ],
      "metadata": {
        "id": "wEEE3Imy5jyW",
        "colab": {
          "base_uri": "https://localhost:8080/"
        },
        "outputId": "6468398d-c2e3-416f-d657-0e03a3b5f207"
      },
      "execution_count": null,
      "outputs": [
        {
          "output_type": "execute_result",
          "data": {
            "text/plain": [
              "<matplotlib.axes._subplots.AxesSubplot at 0x7f7f9f96aac0>"
            ]
          },
          "metadata": {},
          "execution_count": 24
        },
        {
          "output_type": "display_data",
          "data": {
            "text/plain": [
              "<Figure size 432x288 with 1 Axes>"
            ],
            "image/png": "[encoded data removed]"
          },
          "metadata": {
            "needs_background": "light"
          }
        }
      ]
    },
    {
      "cell_type": "code",
      "source": [
        "#Outlier sudah terhandle semua."
      ],
      "metadata": {
        "id": "tifur5v2-7u6"
      },
      "execution_count": null,
      "outputs": []
    },
    {
      "cell_type": "markdown",
      "source": [
        "## Exploratory Data Analysis (EDA)"
      ],
      "metadata": {
        "id": "bxiFX6B4xDus"
      }
    },
    {
      "cell_type": "code",
      "source": [
        "#Heatmap Tabel Korelasi antar variabel\n",
        "plt.figure(figsize = (10,10))\n",
        "sns.heatmap(data_fix.corr(), cmap='YlGnBu',annot = True)"
      ],
      "metadata": {
        "colab": {
          "base_uri": "https://localhost:8080/",
          "height": 704
        },
        "id": "xRDpsErr3S4A",
        "outputId": "5c32a2ab-2ea2-44ff-c5e0-cdc81ffec0b0"
      },
      "execution_count": null,
      "outputs": [
        {
          "output_type": "execute_result",
          "data": {
            "text/plain": [
              "<matplotlib.axes._subplots.AxesSubplot at 0x7f29c775f340>"
            ]
          },
          "metadata": {},
          "execution_count": 26
        },
        {
          "output_type": "display_data",
          "data": {
            "text/plain": [
              "<Figure size 720x720 with 2 Axes>"
            ],
            "image/png": "[encoded data removed]"
          },
          "metadata": {
            "needs_background": "light"
          }
        }
      ]
    },
    {
      "cell_type": "code",
      "source": [
        "print(data_fix.info())"
      ],
      "metadata": {
        "colab": {
          "base_uri": "https://localhost:8080/"
        },
        "id": "MNzl5c4oxR2h",
        "outputId": "77b138cc-4c55-47d9-e31a-4a9bad2141d0"
      },
      "execution_count": null,
      "outputs": [
        {
          "output_type": "stream",
          "name": "stdout",
          "text": [
            "<class 'pandas.core.frame.DataFrame'>\n",
            "Int64Index: 25612 entries, 2 to 775044\n",
            "Data columns (total 17 columns):\n",
            " #   Column               Non-Null Count  Dtype   \n",
            "---  ------               --------------  -----   \n",
            " 0   Id_customer          25612 non-null  int64   \n",
            " 1   JK                   25612 non-null  category\n",
            " 2   KepemilikanMobil     25612 non-null  category\n",
            " 3   KepemilikanProperti  25612 non-null  category\n",
            " 4   JmlAnak              25612 non-null  int64   \n",
            " 5   Pendapatan           25612 non-null  category\n",
            " 6   TipePendapatan       25612 non-null  category\n",
            " 7   TingkatPendidikan    25612 non-null  category\n",
            " 8   StatusKeluarga       25612 non-null  category\n",
            " 9   TipeRumah            25612 non-null  category\n",
            " 10  FlagWorkPhone        25612 non-null  int64   \n",
            " 11  FlagPhone            25612 non-null  int64   \n",
            " 12  Pekerjaan            25612 non-null  category\n",
            " 13  JmlAnggotaKeluarga   25612 non-null  int64   \n",
            " 14  Age                  25612 non-null  int64   \n",
            " 15  Experience           25612 non-null  int64   \n",
            " 16  Overdue              25612 non-null  category\n",
            "dtypes: category(10), int64(7)\n",
            "memory usage: 1.8 MB\n",
            "None\n"
          ]
        }
      ]
    },
    {
      "cell_type": "markdown",
      "source": [
        "- Jumlah anak dan jumlah anggota keluarga have a high degree of correlation (0.9). Possible to eliminate one of them."
      ],
      "metadata": {
        "id": "hUgfyX5fhHpB"
      }
    },
    {
      "cell_type": "code",
      "source": [
        "#Eliminating Jumlah Anak\n",
        "data_fix = data_fix.drop(['JmlAnak'], axis=1)"
      ],
      "metadata": {
        "id": "GTMw743uhl7_"
      },
      "execution_count": null,
      "outputs": []
    },
    {
      "cell_type": "code",
      "source": [
        "#Menghitung gagal bayar dan sukses bayar\n",
        "plt.figure(figsize=(6,6))\n",
        "sns.countplot(data_fix['Overdue'])\n",
        "plt.xticks([0,1], labels=[\"Not Deafaulted\", \"Defaulted\"])\n",
        "plt.title(\"Target Distribution\")"
      ],
      "metadata": {
        "colab": {
          "base_uri": "https://localhost:8080/",
          "height": 421
        },
        "id": "oQR7J28DnPsh",
        "outputId": "63d6dac0-891c-4263-d553-7679b0deaf6f"
      },
      "execution_count": null,
      "outputs": [
        {
          "output_type": "execute_result",
          "data": {
            "text/plain": [
              "Text(0.5, 1.0, 'Target Distribution')"
            ]
          },
          "metadata": {},
          "execution_count": 30
        },
        {
          "output_type": "display_data",
          "data": {
            "text/plain": [
              "<Figure size 432x432 with 1 Axes>"
            ],
            "image/png": "[encoded data removed]"
          },
          "metadata": {
            "needs_background": "light"
          }
        }
      ]
    },
    {
      "cell_type": "code",
      "source": [
        "#Menghitung sebaran usia\n",
        "plt.figure(figsize=(6,6))\n",
        "sns.displot(data_fix['Age'], kde=True)\n",
        "plt.xticks(rotation=0)\n",
        "plt.ylabel('Count')\n",
        "plt.title(\"Age distribution\")"
      ],
      "metadata": {
        "colab": {
          "base_uri": "https://localhost:8080/",
          "height": 420
        },
        "id": "r4-7zyR-olhZ",
        "outputId": "0ed10390-f241-4208-c48f-40a1d4f8c791"
      },
      "execution_count": null,
      "outputs": [
        {
          "output_type": "execute_result",
          "data": {
            "text/plain": [
              "Text(0.5, 1.0, 'Age distribution')"
            ]
          },
          "metadata": {},
          "execution_count": 32
        },
        {
          "output_type": "display_data",
          "data": {
            "text/plain": [
              "<Figure size 432x432 with 0 Axes>"
            ]
          },
          "metadata": {}
        },
        {
          "output_type": "display_data",
          "data": {
            "text/plain": [
              "<Figure size 360x360 with 1 Axes>"
            ],
            "image/png": "[encoded data removed]"
          },
          "metadata": {
            "needs_background": "light"
          }
        }
      ]
    },
    {
      "cell_type": "code",
      "source": [
        "#Gender dan Overdue?\n",
        "plt.figure(figsize=(6,6))\n",
        "sns.countplot('JK',hue='Overdue',data=data_fix)\n",
        "plt.title(\"Gender Distribution\")\n",
        "#Answer: Perempuan lebih banyak sukses bayar dari laki-laki, laki-laki lebih banyak gagal bayar"
      ],
      "metadata": {
        "colab": {
          "base_uri": "https://localhost:8080/",
          "height": 421
        },
        "id": "Y2d34rw8pKg6",
        "outputId": "c0360301-12f2-4686-87f4-c5116a458cdc"
      },
      "execution_count": null,
      "outputs": [
        {
          "output_type": "execute_result",
          "data": {
            "text/plain": [
              "Text(0.5, 1.0, 'Gender Distribution')"
            ]
          },
          "metadata": {},
          "execution_count": 35
        },
        {
          "output_type": "display_data",
          "data": {
            "text/plain": [
              "<Figure size 432x432 with 1 Axes>"
            ],
            "image/png": "[encoded data removed]"
          },
          "metadata": {
            "needs_background": "light"
          }
        }
      ]
    },
    {
      "cell_type": "code",
      "source": [
        "# Apakah pendidikan mempengaruhi kemampuan membayar?\n",
        "plt.figure(figsize=(10,6))\n",
        "sns.countplot('TingkatPendidikan', hue='Overdue',data= data_fix)\n",
        "#plt.xticks([0,1,2,3],labels=[\"graduate school\", \"university\",'high school','others'])\n",
        "plt.title(\"Education Distribution\")\n",
        "#Answer: Lulusan S2 memiliki kontribusi terbesar baik dalam peminjaman kredit maupun sukses dan gagal bayar."
      ],
      "metadata": {
        "colab": {
          "base_uri": "https://localhost:8080/",
          "height": 476
        },
        "id": "vmOmcm9lquWI",
        "outputId": "8f5c37bb-11d3-44d6-ea53-7818e99c3b6f"
      },
      "execution_count": null,
      "outputs": [
        {
          "output_type": "stream",
          "name": "stderr",
          "text": [
            "/usr/local/lib/python3.8/dist-packages/seaborn/_decorators.py:36: FutureWarning: Pass the following variable as a keyword arg: x. From version 0.12, the only valid positional argument will be `data`, and passing other arguments without an explicit keyword will result in an error or misinterpretation.\n",
            "  warnings.warn(\n"
          ]
        },
        {
          "output_type": "execute_result",
          "data": {
            "text/plain": [
              "Text(0.5, 1.0, 'Education Distribution')"
            ]
          },
          "metadata": {},
          "execution_count": 36
        },
        {
          "output_type": "display_data",
          "data": {
            "text/plain": [
              "<Figure size 720x432 with 1 Axes>"
            ],
            "image/png": "[encoded data removed]"
          },
          "metadata": {
            "needs_background": "light"
          }
        }
      ]
    },
    {
      "cell_type": "code",
      "source": [
        "#Apakah jumlah anggota berpengaruh?\n",
        "plt.figure(figsize=(10,6))\n",
        "sns.countplot('JmlAnggotaKeluarga',hue='Overdue',data= data_fix)\n",
        "plt.title(\"JmlAnggotaKeluarga\")\n",
        "#Answer: Peminjam dengan anggota keluarga sebanyak 2 orang mempunyai jumlah peminjam paling banyak, sukses bayar maupun gagal bayar."
      ],
      "metadata": {
        "colab": {
          "base_uri": "https://localhost:8080/",
          "height": 476
        },
        "id": "zBQQeB7gqS7p",
        "outputId": "2659f66a-8a07-4b4f-c29f-fc86ecbf1927"
      },
      "execution_count": null,
      "outputs": [
        {
          "output_type": "stream",
          "name": "stderr",
          "text": [
            "/usr/local/lib/python3.8/dist-packages/seaborn/_decorators.py:36: FutureWarning: Pass the following variable as a keyword arg: x. From version 0.12, the only valid positional argument will be `data`, and passing other arguments without an explicit keyword will result in an error or misinterpretation.\n",
            "  warnings.warn(\n"
          ]
        },
        {
          "output_type": "execute_result",
          "data": {
            "text/plain": [
              "Text(0.5, 1.0, 'JmlAnggotaKeluarga')"
            ]
          },
          "metadata": {},
          "execution_count": 38
        },
        {
          "output_type": "display_data",
          "data": {
            "text/plain": [
              "<Figure size 720x432 with 1 Axes>"
            ],
            "image/png": "[encoded data removed]"
          },
          "metadata": {
            "needs_background": "light"
          }
        }
      ]
    },
    {
      "cell_type": "code",
      "source": [
        "#Apakah status pernikahan berpengaruh?\n",
        "plt.figure(figsize=(10,6))\n",
        "sns.countplot('StatusKeluarga',hue='Overdue',data= data_fix)\n",
        "plt.title(\"StatusKeluarga\")\n",
        "#Orang dengan status menikah merupakan pemohon kredit paling banyak."
      ],
      "metadata": {
        "colab": {
          "base_uri": "https://localhost:8080/",
          "height": 476
        },
        "id": "PDuULEPIsZ7_",
        "outputId": "a7a4b945-dc16-41b7-f0ee-2223e404f9a6"
      },
      "execution_count": null,
      "outputs": [
        {
          "output_type": "stream",
          "name": "stderr",
          "text": [
            "/usr/local/lib/python3.8/dist-packages/seaborn/_decorators.py:36: FutureWarning: Pass the following variable as a keyword arg: x. From version 0.12, the only valid positional argument will be `data`, and passing other arguments without an explicit keyword will result in an error or misinterpretation.\n",
            "  warnings.warn(\n"
          ]
        },
        {
          "output_type": "execute_result",
          "data": {
            "text/plain": [
              "Text(0.5, 1.0, 'StatusKeluarga')"
            ]
          },
          "metadata": {},
          "execution_count": 39
        },
        {
          "output_type": "display_data",
          "data": {
            "text/plain": [
              "<Figure size 720x432 with 1 Axes>"
            ],
            "image/png": "[encoded data removed]"
          },
          "metadata": {
            "needs_background": "light"
          }
        }
      ]
    },
    {
      "cell_type": "markdown",
      "source": [
        "## Extract Processed Data"
      ],
      "metadata": {
        "id": "-A4nmjN3DCg6"
      }
    },
    {
      "cell_type": "code",
      "source": [
        "from google.colab import files"
      ],
      "metadata": {
        "id": "r9FUwT9CqVar"
      },
      "execution_count": null,
      "outputs": []
    },
    {
      "cell_type": "code",
      "source": [
        "data_fixi.to_csv('data_fixi.csv',index=False,header=True)\n",
        "files.download('data_fixi.csv')"
      ],
      "metadata": {
        "id": "0gk29Vh03tfP"
      },
      "execution_count": null,
      "outputs": []
    }
  ]
}